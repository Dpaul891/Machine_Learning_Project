{
 "cells": [
  {
   "cell_type": "code",
   "execution_count": 1,
   "metadata": {},
   "outputs": [],
   "source": [
    "from PIL import Image\n",
    "import numpy as np\n",
    "import random\n",
    "import matplotlib.pyplot as plt\n",
    "from tqdm import tqdm"
   ]
  },
  {
   "cell_type": "code",
   "execution_count": 2,
   "metadata": {},
   "outputs": [],
   "source": [
    "def create_S(p,d,n):\n",
    "    s = np.zeros(d*n)\n",
    "\n",
    "    change_list = random.sample(range(int(d*n)),int(p*d*n))\n",
    "    for i in change_list:\n",
    "        s[i] = np.random.normal(0, 10)\n",
    "    \n",
    "    s = s.reshape(50,50)\n",
    "    return s"
   ]
  },
  {
   "cell_type": "code",
   "execution_count": 3,
   "metadata": {},
   "outputs": [],
   "source": [
    "U_0 = np.random.normal(0, 10, (50, 5))\n",
    "V_0 = np.random.normal(0, 10, (50, 5))"
   ]
  },
  {
   "cell_type": "code",
   "execution_count": 4,
   "metadata": {},
   "outputs": [],
   "source": [
    "U_star = np.random.normal(0, 10, (50, 5))\n",
    "V_star = np.random.normal(0, 10, (50, 5))\n",
    "L_star = U_star.dot(V_star.T)"
   ]
  },
  {
   "cell_type": "code",
   "execution_count": 131,
   "metadata": {},
   "outputs": [],
   "source": [
    "s = create_S(0.3,50,50)"
   ]
  },
  {
   "cell_type": "code",
   "execution_count": 132,
   "metadata": {},
   "outputs": [],
   "source": [
    "X = U_star.dot(V_star.T)+s"
   ]
  },
  {
   "cell_type": "code",
   "execution_count": 133,
   "metadata": {},
   "outputs": [],
   "source": [
    "def subgradient(X,U_0,V_0,alpha, L_star):\n",
    "    #initialization the algorithm\n",
    "    U = U_0.copy()\n",
    "    V = V_0.T.copy()\n",
    "    #main loop\n",
    "    Error = []\n",
    "    for n in tqdm(range(10000)):\n",
    "    #calculate error\n",
    "        Error.append(np.linalg.norm(U.dot(V)-L_star, 2)) \n",
    "        \n",
    "        grad = np.sign(X-U.dot(V))\n",
    "        \n",
    "\n",
    "        for i in range(len(X)):\n",
    "            U[i] = U[i] + alpha* grad[i].dot(V.T)\n",
    "            V = V + alpha* np.outer(U[i],grad[i])\n",
    "            #for j in range(len(X[i])):\n",
    "                #if X[i][j] > 0:\n",
    "                   \n",
    "                    #grad = np.sign(X[i][j] - np.dot(U[i,:],V[:,j]))   \n",
    "                    #if grad == 0:\n",
    "                        #grad = random.uniform(-1,1)\n",
    "                    #grad1 = grad[i][j]\n",
    "                    \n",
    "                    #V[:,j] = V[:,j] + alpha * grad1 * U[i]\n",
    "                    #for k in range(5):\n",
    "                        #U[i][k] = U[i][k] + alpha * grad1 * V[k][j]\n",
    "                        #V[k][j] = V[k][j] + alpha * grad1 * U[i][k]\n",
    "\n",
    "\n",
    "    U_result = U\n",
    "    V_result = V\n",
    "    return Error, U_result,V_result"
   ]
  },
  {
   "cell_type": "code",
   "execution_count": 134,
   "metadata": {},
   "outputs": [
    {
     "name": "stderr",
     "output_type": "stream",
     "text": [
      "100%|██████████████████████████████████████████████████████████████████████████| 10000/10000 [00:09<00:00, 1091.60it/s]\n"
     ]
    }
   ],
   "source": [
    "Error,U_result,V_result  = subgradient(X,U_0,V_0,0.0001, L_star)"
   ]
  },
  {
   "cell_type": "code",
   "execution_count": 135,
   "metadata": {},
   "outputs": [
    {
     "data": {
      "text/plain": [
       "19.69454443365566"
      ]
     },
     "execution_count": 135,
     "metadata": {},
     "output_type": "execute_result"
    }
   ],
   "source": [
    "Error[9999]"
   ]
  },
  {
   "cell_type": "code",
   "execution_count": 136,
   "metadata": {
    "scrolled": true
   },
   "outputs": [
    {
     "data": {
      "text/plain": [
       "[<matplotlib.lines.Line2D at 0x1aa951b7e48>]"
      ]
     },
     "execution_count": 136,
     "metadata": {},
     "output_type": "execute_result"
    },
    {
     "data": {
      "image/png": "[encoded data removed]",
      "text/plain": [
       "<Figure size 432x288 with 1 Axes>"
      ]
     },
     "metadata": {
      "needs_background": "light"
     },
     "output_type": "display_data"
    }
   ],
   "source": [
    "plt.plot(Error)"
   ]
  },
  {
   "cell_type": "code",
   "execution_count": 140,
   "metadata": {},
   "outputs": [],
   "source": [
    "p = np.arange(0.1,0.85,0.1)"
   ]
  },
  {
   "cell_type": "code",
   "execution_count": 141,
   "metadata": {
    "scrolled": true
   },
   "outputs": [
    {
     "name": "stderr",
     "output_type": "stream",
     "text": [
      "100%|██████████████████████████████████████████████████████████████████████████| 10000/10000 [00:09<00:00, 1061.15it/s]\n",
      "100%|██████████████████████████████████████████████████████████████████████████| 10000/10000 [00:08<00:00, 1133.02it/s]\n",
      "100%|██████████████████████████████████████████████████████████████████████████| 10000/10000 [00:08<00:00, 1118.14it/s]\n",
      "100%|██████████████████████████████████████████████████████████████████████████| 10000/10000 [00:08<00:00, 1142.18it/s]\n",
      "100%|██████████████████████████████████████████████████████████████████████████| 10000/10000 [00:08<00:00, 1139.60it/s]\n",
      "100%|██████████████████████████████████████████████████████████████████████████| 10000/10000 [00:08<00:00, 1131.95it/s]\n",
      "100%|██████████████████████████████████████████████████████████████████████████| 10000/10000 [00:08<00:00, 1137.90it/s]\n",
      "100%|██████████████████████████████████████████████████████████████████████████| 10000/10000 [00:08<00:00, 1144.28it/s]\n"
     ]
    }
   ],
   "source": [
    "Result = []\n",
    "for i in p:\n",
    "    s = create_S(i,50,50) \n",
    "    X = U_star.dot(V_star.T)+s\n",
    "    Error,U_result,V_result  = subgradient(X,U_0,V_0,0.0001, L_star)\n",
    "    Result.append(Error[9999])"
   ]
  },
  {
   "cell_type": "code",
   "execution_count": 142,
   "metadata": {},
   "outputs": [
    {
     "data": {
      "text/plain": [
       "[<matplotlib.lines.Line2D at 0x1aa95165f08>]"
      ]
     },
     "execution_count": 142,
     "metadata": {},
     "output_type": "execute_result"
    },
    {
     "data": {
      "image/png": "[encoded data removed]",
      "text/plain": [
       "<Figure size 432x288 with 1 Axes>"
      ]
     },
     "metadata": {
      "needs_background": "light"
     },
     "output_type": "display_data"
    }
   ],
   "source": [
    "plt.plot(p,Result)"
   ]
  },
  {
   "cell_type": "code",
   "execution_count": null,
   "metadata": {},
   "outputs": [],
   "source": [
    "image = Image.open(\"yaleB02_P00A+000E+00.pgm\")\n"
   ]
  },
  {
   "cell_type": "code",
   "execution_count": null,
   "metadata": {},
   "outputs": [],
   "source": [
    "image_array = np.array(image).reshape(32256)"
   ]
  },
  {
   "cell_type": "code",
   "execution_count": null,
   "metadata": {},
   "outputs": [],
   "source": [
    "new_im = Image.fromarray(np.array(image))"
   ]
  },
  {
   "cell_type": "code",
   "execution_count": null,
   "metadata": {},
   "outputs": [],
   "source": [
    "new_im"
   ]
  },
  {
   "cell_type": "code",
   "execution_count": null,
   "metadata": {},
   "outputs": [],
   "source": [
    "import os\n",
    "\n",
    "files= os.listdir('.\\\\Final_project_package\\\\Data\\\\Yale-B02')"
   ]
  },
  {
   "cell_type": "code",
   "execution_count": null,
   "metadata": {},
   "outputs": [],
   "source": [
    "\n",
    "for file in files:\n",
    "    image = Image.open('.\\\\Final_project_package\\\\Data\\\\Yale-B02\\\\'+file)\n",
    "    image_array1 = np.array(image).reshape(32256)\n",
    "    image_array = np.vstack((image_array,image_array1))"
   ]
  },
  {
   "cell_type": "code",
   "execution_count": null,
   "metadata": {},
   "outputs": [],
   "source": [
    "image_array = image_array.T"
   ]
  },
  {
   "cell_type": "code",
   "execution_count": null,
   "metadata": {},
   "outputs": [],
   "source": [
    "image_array.shape"
   ]
  },
  {
   "cell_type": "code",
   "execution_count": null,
   "metadata": {},
   "outputs": [],
   "source": [
    "U_0 = np.random.randint(0,5,(32256, 10)) \n",
    "V_0 = np.random.randint(0,5,(64, 10))"
   ]
  },
  {
   "cell_type": "code",
   "execution_count": null,
   "metadata": {},
   "outputs": [],
   "source": [
    "L = U_0.dot(V_0.T)"
   ]
  },
  {
   "cell_type": "code",
   "execution_count": null,
   "metadata": {},
   "outputs": [],
   "source": [
    "def subgradient2(X,U_0,V_0,alpha):\n",
    "    #initialization the algorithm\n",
    "    U = U_0.copy()\n",
    "    V = V_0.T.copy()\n",
    "\n",
    "    for n in tqdm(range(20)):\n",
    "        grad = np.sign(X-U.dot(V))\n",
    "\n",
    "        for i in range(len(X)):\n",
    "            U[i] = U[i] + alpha * grad[i].dot(V.T)\n",
    "            V = V + alpha * np.outer(U[i],grad[i])\n",
    "\n",
    "\n",
    "    U_result = U\n",
    "    V_result = V\n",
    "    return U_result,V_result"
   ]
  },
  {
   "cell_type": "code",
   "execution_count": null,
   "metadata": {
    "scrolled": true
   },
   "outputs": [],
   "source": [
    "U_result,V_result  = subgradient2(image_array,U_0,V_0,0.001)"
   ]
  },
  {
   "cell_type": "code",
   "execution_count": null,
   "metadata": {},
   "outputs": [],
   "source": [
    "L = U_result.dot(V_result)"
   ]
  },
  {
   "cell_type": "code",
   "execution_count": null,
   "metadata": {},
   "outputs": [],
   "source": [
    "a = L[:,1].reshape(192,168)"
   ]
  },
  {
   "cell_type": "code",
   "execution_count": null,
   "metadata": {
    "scrolled": true
   },
   "outputs": [],
   "source": [
    "a.shape"
   ]
  },
  {
   "cell_type": "code",
   "execution_count": null,
   "metadata": {},
   "outputs": [],
   "source": [
    "a"
   ]
  },
  {
   "cell_type": "code",
   "execution_count": null,
   "metadata": {},
   "outputs": [],
   "source": [
    "# 把array 变回图片\n",
    "new_im = Image.fromarray(a)"
   ]
  },
  {
   "cell_type": "code",
   "execution_count": null,
   "metadata": {},
   "outputs": [],
   "source": [
    "new_im"
   ]
  },
  {
   "cell_type": "code",
   "execution_count": null,
   "metadata": {},
   "outputs": [],
   "source": []
  }
 ],
 "metadata": {
  "kernelspec": {
   "display_name": "Python 3",
   "language": "python",
   "name": "python3"
  },
  "language_info": {
   "codemirror_mode": {
    "name": "ipython",
    "version": 3
   },
   "file_extension": ".py",
   "mimetype": "text/x-python",
   "name": "python",
   "nbconvert_exporter": "python",
   "pygments_lexer": "ipython3",
   "version": "3.8.5"
  }
 },
 "nbformat": 4,
 "nbformat_minor": 4
}
