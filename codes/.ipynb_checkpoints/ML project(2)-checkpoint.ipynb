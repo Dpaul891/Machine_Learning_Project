{
 "cells": [
  {
   "cell_type": "code",
   "execution_count": 1,
   "metadata": {},
   "outputs": [],
   "source": [
    "from PIL import Image\n",
    "import numpy as np\n",
    "import random\n",
    "import matplotlib.pyplot as plt\n",
    "from tqdm import tqdm"
   ]
  },
  {
   "cell_type": "code",
   "execution_count": null,
   "metadata": {},
   "outputs": [],
   "source": [
    "def create_S(p,d,n):\n",
    "    s = np.zeros(d*n)\n",
    "\n",
    "    change_list = random.sample(range(int(d*n)),int(p*d*n))\n",
    "    for i in change_list:\n",
    "        s[i] = np.random.normal(0, 10)\n",
    "    \n",
    "    s = s.reshape(50,50)\n",
    "    return s"
   ]
  },
  {
   "cell_type": "code",
   "execution_count": null,
   "metadata": {},
   "outputs": [],
   "source": [
    "U_0 = np.random.normal(0, 10, (50, 5))\n",
    "V_0 = np.random.normal(0, 10, (50, 5))"
   ]
  },
  {
   "cell_type": "code",
   "execution_count": null,
   "metadata": {},
   "outputs": [],
   "source": [
    "U_star = np.random.normal(0, 10, (50, 5))\n",
    "V_star = np.random.normal(0, 10, (50, 5))\n",
    "L_star = U_star.dot(V_star.T)"
   ]
  },
  {
   "cell_type": "code",
   "execution_count": null,
   "metadata": {},
   "outputs": [],
   "source": [
    "s = create_S(0.3,50,50)"
   ]
  },
  {
   "cell_type": "code",
   "execution_count": null,
   "metadata": {},
   "outputs": [],
   "source": [
    "X = U_star.dot(V_star.T)+s"
   ]
  },
  {
   "cell_type": "code",
   "execution_count": null,
   "metadata": {},
   "outputs": [],
   "source": [
    "def subgradient(X,U_0,V_0,alpha, L_star):\n",
    "    #initialization the algorithm\n",
    "    U = U_0.copy()\n",
    "    V = V_0.T.copy()\n",
    "    #main loop\n",
    "    Error = []\n",
    "    for n in tqdm(range(1000)):\n",
    "    #calculate error\n",
    "        Error.append(np.linalg.norm(U.dot(V)-L_star, 2)) \n",
    "        \n",
    "        grad = np.sign(X-U.dot(V))\n",
    "\n",
    "        for i in range(len(X)):\n",
    "            if n >400:\n",
    "                \n",
    "                U[i] = U[i] + alpha*(0.995**n)* grad[i].dot(V.T)\n",
    "                V = V + alpha* (0.995**n) * np.outer(U[i],grad[i])\n",
    "            else:\n",
    "                U[i] = U[i] + alpha* grad[i].dot(V.T)\n",
    "                V = V + alpha * np.outer(U[i],grad[i])\n",
    "            \n",
    "            #for j in range(len(X[i])):\n",
    "                #if X[i][j] > 0:\n",
    "                   \n",
    "                    #grad = np.sign(X[i][j] - np.dot(U[i,:],V[:,j]))   \n",
    "                    #if grad == 0:\n",
    "                        #grad = random.uniform(-1,1)\n",
    "                    #grad1 = grad[i][j]\n",
    "                    \n",
    "                    #V[:,j] = V[:,j] + alpha * grad1 * U[i]\n",
    "                    #for k in range(5):\n",
    "                        #U[i][k] = U[i][k] + alpha * grad1 * V[k][j]\n",
    "                        #V[k][j] = V[k][j] + alpha * grad1 * U[i][k]\n",
    "\n",
    "\n",
    "    U_result = U\n",
    "    V_result = V\n",
    "    return Error, U_result,V_result"
   ]
  },
  {
   "cell_type": "code",
   "execution_count": null,
   "metadata": {},
   "outputs": [],
   "source": [
    "Error,U_result,V_result  = subgradient(X,U_0,V_0,0.001, L_star)"
   ]
  },
  {
   "cell_type": "code",
   "execution_count": null,
   "metadata": {},
   "outputs": [],
   "source": [
    "Error[999]"
   ]
  },
  {
   "cell_type": "code",
   "execution_count": null,
   "metadata": {
    "scrolled": true
   },
   "outputs": [],
   "source": [
    "plt.plot(Error)"
   ]
  },
  {
   "cell_type": "code",
   "execution_count": null,
   "metadata": {},
   "outputs": [],
   "source": [
    "p = np.arange(0.1,0.85,0.1)"
   ]
  },
  {
   "cell_type": "code",
   "execution_count": null,
   "metadata": {
    "scrolled": true
   },
   "outputs": [],
   "source": [
    "Result = []\n",
    "for i in p:\n",
    "    s = create_S(i,50,50) \n",
    "    X = U_star.dot(V_star.T)+s\n",
    "    Error,U_result,V_result  = subgradient(X,U_0,V_0,0.001, L_star)\n",
    "    Result.append(Error[999])"
   ]
  },
  {
   "cell_type": "code",
   "execution_count": null,
   "metadata": {},
   "outputs": [],
   "source": [
    "plt.plot(p,Result)"
   ]
  },
  {
   "cell_type": "code",
   "execution_count": 6,
   "metadata": {},
   "outputs": [],
   "source": [
    "image = Image.open(\"yaleB02_P00A+000E+00.pgm\")"
   ]
  },
  {
   "cell_type": "code",
   "execution_count": 7,
   "metadata": {},
   "outputs": [],
   "source": [
    "image_array = np.array(image).reshape(32256)"
   ]
  },
  {
   "cell_type": "code",
   "execution_count": 8,
   "metadata": {},
   "outputs": [],
   "source": [
    "a = np.array(image)"
   ]
  },
  {
   "cell_type": "code",
   "execution_count": 9,
   "metadata": {},
   "outputs": [],
   "source": [
    "new_im = Image.fromarray(a)"
   ]
  },
  {
   "cell_type": "code",
   "execution_count": 10,
   "metadata": {},
   "outputs": [
    {
     "data": {
      "image/png": "[encoded data removed]",
      "text/plain": [
       "<PIL.Image.Image image mode=L size=168x192 at 0x215D472CC48>"
      ]
     },
     "execution_count": 10,
     "metadata": {},
     "output_type": "execute_result"
    }
   ],
   "source": [
    "new_im"
   ]
  },
  {
   "cell_type": "code",
   "execution_count": 11,
   "metadata": {},
   "outputs": [],
   "source": [
    "import os\n",
    "files= os.listdir('.\\\\Final_project_package\\\\Data\\\\Yale-B02')"
   ]
  },
  {
   "cell_type": "code",
   "execution_count": 12,
   "metadata": {},
   "outputs": [],
   "source": [
    "for file in files:\n",
    "    image = Image.open('.\\\\Final_project_package\\\\Data\\\\Yale-B02\\\\'+file)\n",
    "    image_array1 = np.array(image).reshape(32256)\n",
    "    image_array = np.vstack((image_array,image_array1))"
   ]
  },
  {
   "cell_type": "code",
   "execution_count": 13,
   "metadata": {},
   "outputs": [],
   "source": [
    "image_array = image_array.T"
   ]
  },
  {
   "cell_type": "code",
   "execution_count": 13,
   "metadata": {},
   "outputs": [
    {
     "data": {
      "text/plain": [
       "(32256, 64)"
      ]
     },
     "execution_count": 13,
     "metadata": {},
     "output_type": "execute_result"
    }
   ],
   "source": [
    "image_array.shape"
   ]
  },
  {
   "cell_type": "code",
   "execution_count": 403,
   "metadata": {},
   "outputs": [],
   "source": [
    "U_0 = np.random.randint(0,5,(192, 20)) \n",
    "V_0 = np.random.randint(0,5,(168, 20))"
   ]
  },
  {
   "cell_type": "code",
   "execution_count": 357,
   "metadata": {},
   "outputs": [],
   "source": [
    "U_0 = np.zeros((192, 20))+0.2 \n",
    "V_0 = np.zeros((168, 20))+0.2"
   ]
  },
  {
   "cell_type": "code",
   "execution_count": 430,
   "metadata": {},
   "outputs": [],
   "source": [
    "L = U_0.dot(V_0.T)"
   ]
  },
  {
   "cell_type": "code",
   "execution_count": null,
   "metadata": {},
   "outputs": [],
   "source": [
    "L = np.repeat(L, repeats = 10, axis=1)"
   ]
  },
  {
   "cell_type": "code",
   "execution_count": null,
   "metadata": {},
   "outputs": [],
   "source": [
    "image_array.shape"
   ]
  },
  {
   "cell_type": "code",
   "execution_count": null,
   "metadata": {},
   "outputs": [],
   "source": [
    "np.sign(np.array([[-2,1],[-1,-1]]))"
   ]
  },
  {
   "cell_type": "code",
   "execution_count": null,
   "metadata": {},
   "outputs": [],
   "source": [
    "np.sign(np.sum(np.sign(L),axis =1)).reshape(192,168)[1]"
   ]
  },
  {
   "cell_type": "code",
   "execution_count": 14,
   "metadata": {},
   "outputs": [],
   "source": [
    "mean_image = np.mean(image_array,axis = 1)"
   ]
  },
  {
   "cell_type": "code",
   "execution_count": null,
   "metadata": {},
   "outputs": [],
   "source": [
    "mean_image"
   ]
  },
  {
   "cell_type": "code",
   "execution_count": 3,
   "metadata": {},
   "outputs": [],
   "source": [
    "def subgradient2(X,U_0,V_0,alpha):\n",
    "    #initialization the algorithm\n",
    "    U = U_0.copy()\n",
    "    V = V_0.T.copy()\n",
    "    Error = []\n",
    "    \n",
    "    # 求出梯度下降的方向\n",
    "    \n",
    "    for n in tqdm(range(1,1001)):\n",
    "        L = U.dot(V)\n",
    "        L = L.reshape(192*168,1)\n",
    "        L = np.repeat(L, repeats = 64, axis=1)\n",
    "        \n",
    "        Error.append(np.linalg.norm(L-X, 2))\n",
    "        print(np.linalg.norm(L-X, 2))\n",
    "        grad = np.sign(np.sum(np.sign(X-L),axis = 1))\n",
    "        grad = grad.reshape(192,168)\n",
    "        \n",
    "        for i in range(192):   \n",
    "            U[i] = U[i] + alpha*grad[i].dot(V.T)\n",
    "            V = V + alpha*np.outer(U[i],grad[i])\n",
    "\n",
    "\n",
    "\n",
    "    U_result = U\n",
    "    V_result = V\n",
    "    return Error,U_result,V_result"
   ]
  },
  {
   "cell_type": "code",
   "execution_count": 461,
   "metadata": {},
   "outputs": [],
   "source": [
    "def subgradient3(X,U_0,V_0,alpha):\n",
    "    #initialization the algorithm\n",
    "    U = U_0.copy()\n",
    "    V = V_0.T.copy()\n",
    "    Error = []\n",
    "    suiji = np.random.randint(0,64)\n",
    "    \n",
    "    for n in tqdm(range(1,1501)):\n",
    "        \n",
    "        Y = X[:,suiji].reshape(192,168)     \n",
    "        \n",
    "        L = U.dot(V)\n",
    "        \n",
    "        error = np.linalg.norm(L-Y, 2)\n",
    "        \n",
    "        Error.append(error)\n",
    "        print(error)\n",
    "        \n",
    "        \n",
    "        diff = Y-L\n",
    "        diff[abs(diff)==0] = np.random.uniform(-1,1)\n",
    "        grad = np.sign(diff)\n",
    "        \n",
    "    \n",
    "        \n",
    "        for i in range(192):   \n",
    "            U[i] = U[i] + alpha/np.sqrt(n)* grad[i].dot(V.T)\n",
    "            V = V + alpha/np.sqrt(n) * np.outer(U[i],grad[i])\n",
    "        \n",
    "       \n",
    "\n",
    "    U_result = U\n",
    "    V_result = V\n",
    "    return Error,U_result,V_result"
   ]
  },
  {
   "cell_type": "code",
   "execution_count": 462,
   "metadata": {
    "scrolled": true
   },
   "outputs": [
    {
     "name": "stderr",
     "output_type": "stream",
     "text": [
      "\n",
      "  0%|                                                                                         | 0/1500 [00:00<?, ?it/s]\u001b[A\n",
      "  0%|                                                                                 | 2/1500 [00:00<01:25, 17.61it/s]\u001b[A"
     ]
    },
    {
     "name": "stdout",
     "output_type": "stream",
     "text": [
      "9722.826360577254\n",
      "8238.553580746211\n",
      "7441.9486784884375\n",
      "6924.308477661966\n",
      "6503.742092312965\n",
      "6171.779532355406\n",
      "5880.778102254684"
     ]
    },
    {
     "name": "stderr",
     "output_type": "stream",
     "text": [
      "\n",
      "  0%|▍                                                                                | 7/1500 [00:00<01:08, 21.82it/s]\u001b[A\n",
      "  1%|▋                                                                               | 12/1500 [00:00<00:57, 25.90it/s]\u001b[A"
     ]
    },
    {
     "name": "stdout",
     "output_type": "stream",
     "text": [
      "\n",
      "5760.134765280715\n",
      "5602.42235366655\n",
      "5491.365133136913\n",
      "5332.0522963795165\n",
      "5224.275978476111\n",
      "5115.823158364753\n",
      "5001.292372918776\n",
      "5027.25522332754\n",
      "4979.977462247022"
     ]
    },
    {
     "name": "stderr",
     "output_type": "stream",
     "text": [
      "\n",
      "  1%|▉                                                                               | 17/1500 [00:00<00:49, 30.14it/s]\u001b[A\n",
      "  1%|█▏                                                                              | 22/1500 [00:00<00:43, 33.93it/s]\u001b[A"
     ]
    },
    {
     "name": "stdout",
     "output_type": "stream",
     "text": [
      "\n",
      "4968.682890566649\n",
      "4966.910696793576\n",
      "4956.599248695277\n",
      "4941.6895576217275\n",
      "4900.352470598531\n",
      "4901.011332406742\n",
      "4896.789368137587\n",
      "4921.1345728520355\n",
      "4911.633682182653"
     ]
    },
    {
     "name": "stderr",
     "output_type": "stream",
     "text": [
      "\n",
      "  2%|█▍                                                                              | 28/1500 [00:00<00:38, 38.64it/s]\u001b[A\n",
      "  2%|█▊                                                                              | 35/1500 [00:00<00:33, 43.75it/s]\u001b[A"
     ]
    },
    {
     "name": "stdout",
     "output_type": "stream",
     "text": [
      "\n",
      "4938.473323349109\n",
      "4909.4363726686615\n",
      "4875.882746289603\n",
      "4857.969919370388\n",
      "4876.85927118428\n",
      "4883.769990260424\n",
      "4880.801961294091\n",
      "4870.382991461285\n",
      "4862.669723044306\n",
      "4892.381713501418\n",
      "4885.744422666441"
     ]
    },
    {
     "name": "stderr",
     "output_type": "stream",
     "text": [
      "\n",
      "  3%|██▏                                                                             | 42/1500 [00:00<00:30, 47.76it/s]\u001b[A"
     ]
    },
    {
     "name": "stdout",
     "output_type": "stream",
     "text": [
      "\n",
      "4892.665752436438\n",
      "4881.7716402848155\n",
      "4863.13088243873\n",
      "4867.379589811688\n",
      "4852.9631641463675\n",
      "4837.092444029359\n",
      "4837.269873186918\n",
      "4835.787859588834\n",
      "4814.572007953969\n",
      "4801.232756383542\n",
      "4785.134370443536\n",
      "4785.43788155508\n",
      "4775.316881991551"
     ]
    },
    {
     "name": "stderr",
     "output_type": "stream",
     "text": [
      "\n",
      "  3%|██▌                                                                             | 49/1500 [00:00<00:28, 51.09it/s]\u001b[A\n",
      "  4%|██▉                                                                             | 56/1500 [00:01<00:26, 54.50it/s]\u001b[A"
     ]
    },
    {
     "name": "stdout",
     "output_type": "stream",
     "text": [
      "\n",
      "4755.202240573416\n",
      "4754.599094702322\n",
      "4753.337576560556\n",
      "4740.32453653257\n",
      "4740.611788415129\n",
      "4732.939679438885\n",
      "4726.72650861249\n",
      "4720.943576547695\n",
      "4712.4770825813575\n",
      "4720.332975553261\n",
      "4724.297641071731\n"
     ]
    },
    {
     "name": "stderr",
     "output_type": "stream",
     "text": [
      "\n",
      "  4%|███▎                                                                            | 62/1500 [00:01<00:26, 53.96it/s]\u001b[A\n",
      "  5%|███▋                                                                            | 70/1500 [00:01<00:24, 58.20it/s]\u001b[A"
     ]
    },
    {
     "name": "stdout",
     "output_type": "stream",
     "text": [
      "4718.768748896259\n",
      "4704.4927445972835\n",
      "4692.919361455485\n",
      "4677.251050569179\n",
      "4667.838311487986\n",
      "4658.685971404722\n",
      "4637.909719538837\n",
      "4640.772347992078\n",
      "4629.816175863283\n",
      "4611.766238680141\n",
      "4603.794523213942\n",
      "4589.242160185254\n",
      "4578.791277399666\n",
      "4580.884316734541\n"
     ]
    },
    {
     "name": "stderr",
     "output_type": "stream",
     "text": [
      "\n",
      "  5%|████                                                                            | 77/1500 [00:01<00:23, 60.02it/s]\u001b[A\n",
      "  6%|████▍                                                                           | 84/1500 [00:01<00:23, 59.71it/s]\u001b[A"
     ]
    },
    {
     "name": "stdout",
     "output_type": "stream",
     "text": [
      "4572.800173224783\n",
      "4567.089849610455\n",
      "4567.906370811738\n",
      "4558.330653294871\n",
      "4547.787604916383\n",
      "4535.3819973470145\n",
      "4527.310451247773\n",
      "4514.383378396684\n",
      "4513.378835809282\n",
      "4515.255618615908\n",
      "4517.65611115279\n",
      "4510.888005614827"
     ]
    },
    {
     "name": "stderr",
     "output_type": "stream",
     "text": [
      "\n",
      "  6%|████▊                                                                           | 91/1500 [00:01<00:23, 59.72it/s]\u001b[A"
     ]
    },
    {
     "name": "stdout",
     "output_type": "stream",
     "text": [
      "\n",
      "4503.53309751607\n",
      "4503.144257356639\n",
      "4491.398150180474\n",
      "4484.661686199783\n",
      "4484.59331190191\n",
      "4480.820846296783\n",
      "4473.913732386522\n",
      "4463.59919851194\n",
      "4457.141634709228\n",
      "4456.5387160261635\n",
      "4461.516897527315\n",
      "4465.432435382363"
     ]
    },
    {
     "name": "stderr",
     "output_type": "stream",
     "text": [
      "\n",
      "  7%|█████▏                                                                          | 98/1500 [00:01<00:23, 59.01it/s]\u001b[A\n",
      "  7%|█████▍                                                                         | 104/1500 [00:01<00:23, 58.20it/s]\u001b[A"
     ]
    },
    {
     "name": "stdout",
     "output_type": "stream",
     "text": [
      "\n",
      "4454.591500250431\n",
      "4455.976660807344\n",
      "4446.7382219325345\n",
      "4453.078029841708\n",
      "4442.875719223869\n",
      "4448.641564694236\n",
      "4440.680640300875\n",
      "4428.5243184342135\n",
      "4421.3336297837295\n",
      "4415.809877524337"
     ]
    },
    {
     "name": "stderr",
     "output_type": "stream",
     "text": [
      "\n",
      "  7%|█████▊                                                                         | 111/1500 [00:02<00:23, 59.69it/s]\u001b[A\n",
      "  8%|██████▏                                                                        | 118/1500 [00:02<00:22, 61.68it/s]\u001b[A"
     ]
    },
    {
     "name": "stdout",
     "output_type": "stream",
     "text": [
      "\n",
      "4403.193492185618\n",
      "4408.362343667103\n",
      "4396.051271718709\n",
      "4390.985039440196\n",
      "4388.740928534382\n",
      "4381.079720573129\n",
      "4392.946374846607\n",
      "4411.39863098726\n",
      "4397.713095128111\n",
      "4390.747516203267\n",
      "4389.620173664139\n",
      "4378.408519980877\n",
      "4376.896707666766\n"
     ]
    },
    {
     "name": "stderr",
     "output_type": "stream",
     "text": [
      "\n",
      "  8%|██████▌                                                                        | 125/1500 [00:02<00:22, 61.93it/s]\u001b[A\n",
      "  9%|██████▉                                                                        | 132/1500 [00:02<00:22, 61.32it/s]\u001b[A"
     ]
    },
    {
     "name": "stdout",
     "output_type": "stream",
     "text": [
      "4366.1605338046065\n",
      "4353.608958209052\n",
      "4343.789492330422\n",
      "4335.8643922694355\n",
      "4340.386082501749\n",
      "4332.867025566889\n",
      "4331.045504886113\n",
      "4322.757305580646\n",
      "4310.407320943703\n",
      "4303.137525368029\n",
      "4295.145707450089\n",
      "4292.974375584485\n",
      "4292.7461299657225"
     ]
    },
    {
     "name": "stderr",
     "output_type": "stream",
     "text": [
      "\n",
      "  9%|███████▎                                                                       | 139/1500 [00:02<00:23, 59.12it/s]\u001b[A"
     ]
    },
    {
     "name": "stdout",
     "output_type": "stream",
     "text": [
      "\n",
      "4282.343006872851\n",
      "4273.231917951248\n",
      "4270.771412165329\n",
      "4269.404726788511\n",
      "4267.2165978171815\n",
      "4258.253401250191\n",
      "4262.556584553493\n",
      "4254.803813201175\n",
      "4247.921657081308\n",
      "4239.350241905697\n",
      "4231.587254311754\n"
     ]
    },
    {
     "name": "stderr",
     "output_type": "stream",
     "text": [
      "\n",
      " 10%|███████▋                                                                       | 146/1500 [00:02<00:22, 59.26it/s]\u001b[A\n",
      " 10%|████████                                                                       | 152/1500 [00:02<00:24, 56.02it/s]\u001b[A"
     ]
    },
    {
     "name": "stdout",
     "output_type": "stream",
     "text": [
      "4225.504882666433\n",
      "4222.972793068695\n",
      "4216.825586794233\n",
      "4212.359203004736\n",
      "4196.6256360249245\n",
      "4194.620618137495\n",
      "4189.087020955792\n",
      "4185.402015295494\n",
      "4181.76851772571\n",
      "4176.024281485349\n",
      "4169.738622573676\n"
     ]
    },
    {
     "name": "stderr",
     "output_type": "stream",
     "text": [
      "\n",
      " 11%|████████▎                                                                      | 158/1500 [00:02<00:23, 56.40it/s]\u001b[A"
     ]
    },
    {
     "name": "stdout",
     "output_type": "stream",
     "text": [
      "4162.708866297867\n",
      "4154.9169129646425\n",
      "4147.954517837495\n",
      "4141.537554368936\n",
      "4144.733182156871"
     ]
    },
    {
     "name": "stderr",
     "output_type": "stream",
     "text": [
      "\n",
      " 11%|████████▋                                                                      | 164/1500 [00:03<00:29, 44.73it/s]\u001b[A\n",
      " 11%|█████████                                                                      | 171/1500 [00:03<00:26, 49.67it/s]\u001b[A"
     ]
    },
    {
     "name": "stdout",
     "output_type": "stream",
     "text": [
      "\n",
      "4143.833498001688\n",
      "4131.708073048283\n",
      "4125.035907538952\n",
      "4114.5855851976485\n",
      "4107.821143352876\n",
      "4101.207955621199\n",
      "4093.35506724709\n",
      "4089.319207958892\n",
      "4083.9949290428704\n",
      "4082.5378307366373\n",
      "4077.0594580068614\n",
      "4065.2303023110876\n",
      "4061.2731981571364\n"
     ]
    },
    {
     "name": "stderr",
     "output_type": "stream",
     "text": [
      "\n",
      " 12%|█████████▎                                                                     | 178/1500 [00:03<00:24, 53.81it/s]\u001b[A\n",
      " 12%|█████████▋                                                                     | 184/1500 [00:03<00:23, 54.87it/s]\u001b[A"
     ]
    },
    {
     "name": "stdout",
     "output_type": "stream",
     "text": [
      "4055.2720415264666\n",
      "4049.461274762523\n",
      "4044.112862517388\n",
      "4037.9733971652904\n",
      "4031.448047949005\n",
      "4027.783494590824\n",
      "4022.479584654347\n",
      "4016.9044320889325\n",
      "4011.5870762652166\n",
      "4008.6705299086643\n",
      "4002.901879793381\n",
      "4003.7181161059684"
     ]
    },
    {
     "name": "stderr",
     "output_type": "stream",
     "text": [
      "\n",
      " 13%|██████████                                                                     | 190/1500 [00:03<00:23, 54.83it/s]\u001b[A"
     ]
    },
    {
     "name": "stdout",
     "output_type": "stream",
     "text": [
      "\n",
      "3997.177069060801\n",
      "3991.743913910289\n",
      "3983.819603676226\n",
      "3977.2637045262977\n",
      "3978.7304353166705\n",
      "3974.4971605835676\n",
      "3967.8516326502568\n",
      "3962.015994985564\n",
      "3959.710884051621\n",
      "3961.908149766111\n",
      "3956.8556307076615"
     ]
    },
    {
     "name": "stderr",
     "output_type": "stream",
     "text": [
      "\n",
      " 13%|██████████▍                                                                    | 197/1500 [00:03<00:23, 54.90it/s]\u001b[A\n",
      " 14%|██████████▋                                                                    | 203/1500 [00:03<00:26, 49.37it/s]\u001b[A"
     ]
    },
    {
     "name": "stdout",
     "output_type": "stream",
     "text": [
      "\n",
      "3951.865564561726\n",
      "3948.81064598021\n",
      "3944.292243689637\n",
      "3948.943721322656\n",
      "3944.313003824177\n",
      "3941.6828822824064\n",
      "3937.6664358313355"
     ]
    },
    {
     "name": "stderr",
     "output_type": "stream",
     "text": [
      "\n",
      " 14%|███████████                                                                    | 210/1500 [00:03<00:24, 52.98it/s]\u001b[A"
     ]
    },
    {
     "name": "stdout",
     "output_type": "stream",
     "text": [
      "\n",
      "3940.659677033822\n",
      "3942.732267343215\n",
      "3937.9725509911163\n",
      "3932.2619516364757\n",
      "3932.145429402972\n",
      "3928.14335409635\n",
      "3920.7364389567715\n",
      "3915.764764815635\n",
      "3911.914523414145\n",
      "3907.3958693366835\n",
      "3902.862964787538\n",
      "3899.163041409256"
     ]
    },
    {
     "name": "stderr",
     "output_type": "stream",
     "text": [
      "\n",
      " 14%|███████████▍                                                                   | 216/1500 [00:03<00:24, 53.33it/s]\u001b[A\n",
      " 15%|███████████▋                                                                   | 222/1500 [00:04<00:24, 52.44it/s]\u001b[A"
     ]
    },
    {
     "name": "stdout",
     "output_type": "stream",
     "text": [
      "\n",
      "3891.9010301075336\n",
      "3886.241668013016\n",
      "3883.698649710389\n",
      "3880.421879075856\n",
      "3878.920011724389\n",
      "3874.36950154648\n",
      "3869.05526813831\n",
      "3871.2537022802903\n",
      "3869.507522005398"
     ]
    },
    {
     "name": "stderr",
     "output_type": "stream",
     "text": [
      "\n",
      " 15%|████████████                                                                   | 228/1500 [00:04<00:24, 51.88it/s]\u001b[A\n",
      " 16%|████████████▍                                                                  | 235/1500 [00:04<00:23, 54.96it/s]\u001b[A"
     ]
    },
    {
     "name": "stdout",
     "output_type": "stream",
     "text": [
      "\n",
      "3865.0222382090733\n",
      "3856.156754176171\n",
      "3859.0518363749447\n",
      "3857.062004559203\n",
      "3853.523047427791\n",
      "3849.734546242284\n",
      "3844.772098220002\n",
      "3836.1904016409226\n",
      "3834.475500300555\n",
      "3838.351156556842\n"
     ]
    },
    {
     "name": "stderr",
     "output_type": "stream",
     "text": [
      "\n",
      " 16%|████████████▋                                                                  | 241/1500 [00:04<00:22, 56.05it/s]\u001b[A"
     ]
    },
    {
     "name": "stdout",
     "output_type": "stream",
     "text": [
      "3837.4605929421855\n",
      "3832.4467868843567\n",
      "3833.9125270490763\n",
      "3838.029361631691\n",
      "3833.1020691695358\n",
      "3826.7175936612903\n",
      "3822.3824923384095\n",
      "3822.020361256832\n",
      "3819.825611884548\n",
      "3817.792802346381\n",
      "3812.8036232694953"
     ]
    },
    {
     "name": "stderr",
     "output_type": "stream",
     "text": [
      "\n",
      " 16%|█████████████                                                                  | 247/1500 [00:04<00:25, 49.62it/s]\u001b[A"
     ]
    },
    {
     "name": "stdout",
     "output_type": "stream",
     "text": [
      "\n",
      "3808.403916831971\n",
      "3807.0040682642516\n",
      "3803.008706989655\n",
      "3798.788910344082\n",
      "3795.635678725309\n",
      "3793.7425497180825\n",
      "3789.547371626675\n"
     ]
    },
    {
     "name": "stderr",
     "output_type": "stream",
     "text": [
      "\n",
      " 17%|█████████████▎                                                                 | 253/1500 [00:04<00:25, 48.32it/s]\u001b[A\n",
      " 17%|█████████████▌                                                                 | 258/1500 [00:04<00:25, 48.50it/s]\u001b[A"
     ]
    },
    {
     "name": "stdout",
     "output_type": "stream",
     "text": [
      "3785.151237989308\n",
      "3786.9382902183434\n",
      "3789.5786242068425\n",
      "3785.4351374531047\n",
      "3781.7769787905395\n",
      "3776.2722105490843\n",
      "3790.428449168579\n",
      "3786.203044947346\n"
     ]
    },
    {
     "name": "stderr",
     "output_type": "stream",
     "text": [
      "\n",
      " 18%|█████████████▊                                                                 | 263/1500 [00:04<00:31, 39.84it/s]\u001b[A\n",
      " 18%|██████████████                                                                 | 268/1500 [00:05<00:29, 42.11it/s]\u001b[A"
     ]
    },
    {
     "name": "stdout",
     "output_type": "stream",
     "text": [
      "3785.2697852032616\n",
      "3781.10746927099\n",
      "3777.167627897147\n",
      "3771.5869867278825\n",
      "3767.520067914025\n",
      "3758.968407304398\n",
      "3755.3232834457335\n"
     ]
    },
    {
     "name": "stderr",
     "output_type": "stream",
     "text": [
      "\n",
      " 18%|██████████████▍                                                                | 273/1500 [00:05<00:28, 43.17it/s]\u001b[A"
     ]
    },
    {
     "name": "stdout",
     "output_type": "stream",
     "text": [
      "3750.735159110349\n",
      "3747.85054491765\n",
      "3747.155994854076\n",
      "3749.966797727066\n",
      "3745.8219677572506\n",
      "3741.738098648579\n",
      "3740.198965459247\n",
      "3736.219452648275\n",
      "3732.7813986236165\n",
      "3728.9844532957845"
     ]
    },
    {
     "name": "stderr",
     "output_type": "stream",
     "text": [
      "\n",
      " 19%|██████████████▋                                                                | 279/1500 [00:05<00:27, 44.97it/s]\u001b[A\n",
      " 19%|███████████████                                                                | 286/1500 [00:05<00:25, 47.71it/s]\u001b[A"
     ]
    },
    {
     "name": "stdout",
     "output_type": "stream",
     "text": [
      "\n",
      "3725.3379489584804\n",
      "3721.5415277617635\n",
      "3721.5717146353572\n",
      "3716.0486190835163\n",
      "3713.051397713897\n",
      "3708.4786930814917\n",
      "3706.7035549479647\n",
      "3706.5239892097898\n",
      "3703.103121564558\n",
      "3699.3519689752475"
     ]
    },
    {
     "name": "stderr",
     "output_type": "stream",
     "text": [
      "\n",
      " 19%|███████████████▍                                                               | 292/1500 [00:05<00:24, 49.94it/s]\u001b[A"
     ]
    },
    {
     "name": "stdout",
     "output_type": "stream",
     "text": [
      "\n",
      "3703.1120232531257\n",
      "3702.586371419504\n",
      "3704.4641556310326\n",
      "3702.6178018604533\n",
      "3698.789620935011\n",
      "3695.3018304423304\n",
      "3698.108253877645\n",
      "3694.4023724231824\n",
      "3690.1198113148716\n",
      "3688.699472346677\n"
     ]
    },
    {
     "name": "stderr",
     "output_type": "stream",
     "text": [
      "\n",
      " 20%|███████████████▋                                                               | 298/1500 [00:05<00:23, 50.44it/s]\u001b[A\n",
      " 20%|████████████████                                                               | 305/1500 [00:05<00:21, 54.67it/s]\u001b[A"
     ]
    },
    {
     "name": "stdout",
     "output_type": "stream",
     "text": [
      "3692.0578706703327\n",
      "3688.4585783556795\n",
      "3686.9015653478577\n",
      "3682.783710660376\n",
      "3690.521415253955\n",
      "3685.0987737676146\n",
      "3680.7737757272635\n",
      "3679.8965286989223\n",
      "3675.465048362575\n",
      "3674.1983037515793\n",
      "3670.9885979289347\n",
      "3664.454360924206\n",
      "3660.3435400972344\n",
      "3656.9445445891006\n"
     ]
    },
    {
     "name": "stderr",
     "output_type": "stream",
     "text": [
      "\n",
      " 21%|████████████████▍                                                              | 312/1500 [00:05<00:21, 56.03it/s]\u001b[A\n",
      " 21%|████████████████▊                                                              | 319/1500 [00:05<00:20, 58.16it/s]\u001b[A"
     ]
    },
    {
     "name": "stdout",
     "output_type": "stream",
     "text": [
      "3653.5784533984743\n",
      "3650.2616452225657\n",
      "3646.994344580378\n",
      "3647.3797826278287\n",
      "3642.794776046154\n",
      "3639.6370550429383\n",
      "3642.5547949504958\n",
      "3639.4006484187976\n",
      "3644.0096468466527\n",
      "3640.8443538097467\n",
      "3638.11207247317\n",
      "3636.9558398794143\n",
      "3643.5957246469725"
     ]
    },
    {
     "name": "stderr",
     "output_type": "stream",
     "text": [
      "\n",
      " 22%|█████████████████▏                                                             | 326/1500 [00:06<00:19, 60.51it/s]\u001b[A\n",
      " 22%|█████████████████▌                                                             | 333/1500 [00:06<00:19, 60.89it/s]\u001b[A"
     ]
    },
    {
     "name": "stdout",
     "output_type": "stream",
     "text": [
      "\n",
      "3642.170434259507\n",
      "3648.1318187078364\n",
      "3646.018988368751\n",
      "3642.717745082415\n",
      "3637.0945443413616\n",
      "3633.5103366639746\n",
      "3633.4000095566976\n",
      "3630.8666897028215\n",
      "3627.7176867569137\n",
      "3631.094553914282\n",
      "3627.9530547910017\n",
      "3625.863077995116\n"
     ]
    },
    {
     "name": "stderr",
     "output_type": "stream",
     "text": [
      "\n",
      " 23%|█████████████████▉                                                             | 340/1500 [00:06<00:18, 62.87it/s]\u001b[A\n",
      " 23%|██████████████████▎                                                            | 347/1500 [00:06<00:18, 63.72it/s]\u001b[A"
     ]
    },
    {
     "name": "stdout",
     "output_type": "stream",
     "text": [
      "3627.086827084539\n",
      "3623.8521098743718\n",
      "3620.6438962714847\n",
      "3617.7761772925214\n",
      "3614.620277306211\n",
      "3607.6055384566557\n",
      "3605.8232291719405\n",
      "3598.385281555363\n",
      "3595.264237806454\n",
      "3592.5768556388853\n",
      "3590.759677983344\n",
      "3608.9242968811204\n",
      "3611.987947217854\n"
     ]
    },
    {
     "name": "stderr",
     "output_type": "stream",
     "text": [
      "\n",
      " 24%|██████████████████▋                                                            | 354/1500 [00:06<00:18, 62.88it/s]\u001b[A\n",
      " 24%|███████████████████                                                            | 361/1500 [00:06<00:18, 62.78it/s]\u001b[A"
     ]
    },
    {
     "name": "stdout",
     "output_type": "stream",
     "text": [
      "3612.2840547421465\n",
      "3609.4572171526697\n",
      "3608.4498627362755\n",
      "3616.13098918207\n",
      "3612.7910519118077\n",
      "3610.6365411335814\n",
      "3607.4411348163894\n",
      "3605.149528133439\n",
      "3601.859553566985\n",
      "3598.3561036468477\n",
      "3594.9985477220457\n",
      "3598.136149296473\n",
      "3600.9844022824386\n"
     ]
    },
    {
     "name": "stderr",
     "output_type": "stream",
     "text": [
      "\n",
      " 25%|███████████████████▍                                                           | 368/1500 [00:06<00:18, 61.68it/s]\u001b[A\n",
      " 25%|███████████████████▊                                                           | 376/1500 [00:06<00:17, 64.79it/s]\u001b[A"
     ]
    },
    {
     "name": "stdout",
     "output_type": "stream",
     "text": [
      "3599.035067907943\n",
      "3596.8148097047147\n",
      "3599.257428052008\n",
      "3595.5361060859586\n",
      "3592.1346976249138\n",
      "3588.594954958224\n",
      "3589.174815950371\n",
      "3585.765466069884\n",
      "3579.803646442818\n",
      "3576.483496526872\n",
      "3573.2134016196555\n",
      "3569.985572670786\n",
      "3566.8145590638524\n",
      "3568.281541563012"
     ]
    },
    {
     "name": "stderr",
     "output_type": "stream",
     "text": [
      "\n",
      " 26%|████████████████████▏                                                          | 383/1500 [00:06<00:17, 62.23it/s]\u001b[A"
     ]
    },
    {
     "name": "stdout",
     "output_type": "stream",
     "text": [
      "\n",
      "3570.913785786164\n",
      "3567.921100552451\n",
      "3572.6779363291334\n",
      "3569.6858304562447\n",
      "3559.7098927380466\n",
      "3576.752592738884\n",
      "3573.4198913590308\n",
      "3570.1553158489633\n",
      "3566.945934212114\n",
      "3564.0658700422814\n",
      "3558.5107875567974\n"
     ]
    },
    {
     "name": "stderr",
     "output_type": "stream",
     "text": [
      "\n",
      " 26%|████████████████████▌                                                          | 390/1500 [00:07<00:18, 60.47it/s]\u001b[A\n",
      " 26%|████████████████████▉                                                          | 397/1500 [00:07<00:18, 60.62it/s]\u001b[A"
     ]
    },
    {
     "name": "stdout",
     "output_type": "stream",
     "text": [
      "3563.8504806092346\n",
      "3566.2173755486\n",
      "3558.3608842739864\n",
      "3555.232431782571\n",
      "3552.1446930577836\n",
      "3549.1057919720934\n",
      "3550.8652070295543\n",
      "3547.67294558793\n",
      "3549.00468546039\n",
      "3545.5631885916164\n",
      "3548.4487811103186\n",
      "3545.398393969119\n"
     ]
    },
    {
     "name": "stderr",
     "output_type": "stream",
     "text": [
      "\n",
      " 27%|█████████████████████▎                                                         | 404/1500 [00:07<00:17, 61.66it/s]\u001b[A"
     ]
    },
    {
     "name": "stdout",
     "output_type": "stream",
     "text": [
      "3548.262055199459\n",
      "3545.1431830724455\n",
      "3542.0642629801832\n",
      "3546.309617008588\n",
      "3547.9580084692107\n",
      "3545.6064581639453\n",
      "3551.3287508199573\n",
      "3551.624874717665\n",
      "3548.977920761223\n",
      "3546.361048930096\n",
      "3543.387501683976\n"
     ]
    },
    {
     "name": "stderr",
     "output_type": "stream",
     "text": [
      "\n",
      " 27%|█████████████████████▋                                                         | 411/1500 [00:07<00:18, 57.42it/s]\u001b[A\n",
      " 28%|█████████████████████▉                                                         | 417/1500 [00:07<00:19, 54.71it/s]\u001b[A"
     ]
    },
    {
     "name": "stdout",
     "output_type": "stream",
     "text": [
      "3543.9251372503354\n",
      "3548.952797485511\n",
      "3548.0358450363888\n",
      "3545.001078244762\n",
      "3541.341802677279\n",
      "3538.34634163204\n",
      "3535.372761605948\n",
      "3532.5194784572645\n",
      "3529.5820664864314\n",
      "3527.4772223572254\n",
      "3525.684925618495\n",
      "3522.791774515842"
     ]
    },
    {
     "name": "stderr",
     "output_type": "stream",
     "text": [
      "\n",
      " 28%|██████████████████████▎                                                        | 423/1500 [00:07<00:19, 55.18it/s]\u001b[A\n",
      " 29%|██████████████████████▌                                                        | 429/1500 [00:07<00:19, 55.62it/s]\u001b[A"
     ]
    },
    {
     "name": "stdout",
     "output_type": "stream",
     "text": [
      "\n",
      "3520.6028556666565\n",
      "3521.2891766329717\n",
      "3510.2670888273465\n",
      "3507.3627782915833\n",
      "3504.5710171207984\n",
      "3506.831302442203\n",
      "3504.1826857542187\n",
      "3501.3278764181273\n",
      "3506.3994135252105\n",
      "3503.570139041423\n",
      "3500.784013972278\n"
     ]
    },
    {
     "name": "stderr",
     "output_type": "stream",
     "text": [
      "\n",
      " 29%|██████████████████████▉                                                        | 435/1500 [00:07<00:19, 55.43it/s]\u001b[A\n",
      " 29%|███████████████████████▏                                                       | 441/1500 [00:08<00:19, 53.68it/s]\u001b[A"
     ]
    },
    {
     "name": "stdout",
     "output_type": "stream",
     "text": [
      "3497.7371421027487\n",
      "3497.9046551229535\n",
      "3492.8498566976514\n",
      "3489.9521155530283\n",
      "3485.90741245093\n",
      "3483.1112664878447\n",
      "3480.3569854446173\n",
      "3477.6347377005122\n",
      "3474.9512607000806"
     ]
    },
    {
     "name": "stderr",
     "output_type": "stream",
     "text": [
      "\n",
      " 30%|███████████████████████▌                                                       | 447/1500 [00:08<00:19, 52.73it/s]\u001b[A\n"
     ]
    },
    {
     "name": "stdout",
     "output_type": "stream",
     "text": [
      "\n",
      "3473.5421588668432\n",
      "3470.9106171947124\n",
      "3471.5375610181927\n",
      "3469.1460833459837\n",
      "3464.4310264792125\n",
      "3462.3297084894048\n",
      "3461.770160546515\n",
      "3459.2603386856294\n",
      "3459.8304188087727\n",
      "3456.994254502948\n"
     ]
    },
    {
     "name": "stderr",
     "output_type": "stream",
     "text": [
      " 30%|███████████████████████▊                                                       | 453/1500 [00:08<00:19, 53.31it/s]\u001b[A\n",
      " 31%|████████████████████████▏                                                      | 459/1500 [00:08<00:19, 52.31it/s]\u001b[A"
     ]
    },
    {
     "name": "stdout",
     "output_type": "stream",
     "text": [
      "3454.921450733573\n",
      "3459.3762074157144\n",
      "3456.952547246361\n",
      "3454.5531810334946\n",
      "3456.3028480786993\n",
      "3453.5010887182198\n",
      "3452.832295310361\n",
      "3450.4009498403543\n",
      "3443.983589274762\n",
      "3441.4518172563667\n",
      "3438.9542791456324\n",
      "3443.740469187875"
     ]
    },
    {
     "name": "stderr",
     "output_type": "stream",
     "text": [
      "\n",
      " 31%|████████████████████████▌                                                      | 466/1500 [00:08<00:18, 54.62it/s]\u001b[A\n",
      " 32%|████████████████████████▉                                                      | 473/1500 [00:08<00:18, 57.01it/s]\u001b[A"
     ]
    },
    {
     "name": "stdout",
     "output_type": "stream",
     "text": [
      "\n",
      "3436.727426056474\n",
      "3434.1675561519733\n",
      "3433.581058651311\n",
      "3431.0243805443647\n",
      "3428.1678422179925\n",
      "3425.6498591675113\n",
      "3423.9691027929334\n",
      "3421.4846548098562\n",
      "3420.077704109611\n",
      "3418.3995279526935\n",
      "3415.9559327612947\n"
     ]
    },
    {
     "name": "stderr",
     "output_type": "stream",
     "text": [
      "\n",
      " 32%|█████████████████████████▏                                                     | 479/1500 [00:08<00:17, 57.71it/s]\u001b[A\n",
      " 32%|█████████████████████████▌                                                     | 486/1500 [00:08<00:17, 58.20it/s]\u001b[A"
     ]
    },
    {
     "name": "stdout",
     "output_type": "stream",
     "text": [
      "3413.5392035806412\n",
      "3412.010665163382\n",
      "3409.6235987745063\n",
      "3407.263250294348\n",
      "3404.7665707002725\n",
      "3402.4297492515016\n",
      "3401.0952741929195\n",
      "3398.786912943433\n",
      "3397.011497367944\n",
      "3396.1942724848145\n",
      "3393.8656395050016\n",
      "3392.8771535720643\n"
     ]
    },
    {
     "name": "stderr",
     "output_type": "stream",
     "text": [
      "\n",
      " 33%|█████████████████████████▉                                                     | 492/1500 [00:08<00:17, 56.14it/s]\u001b[A\n",
      " 33%|██████████████████████████▏                                                    | 498/1500 [00:09<00:17, 56.89it/s]\u001b[A"
     ]
    },
    {
     "name": "stdout",
     "output_type": "stream",
     "text": [
      "3391.582539502331\n",
      "3386.755457378155\n",
      "3390.8818883491294\n",
      "3388.8290319832904\n",
      "3386.5000387350615\n",
      "3384.201481611546\n",
      "3382.243075157054\n",
      "3383.625663704383\n",
      "3381.3772146063707\n",
      "3379.151668522504\n",
      "3375.2929936173796\n",
      "3377.5426383022414"
     ]
    },
    {
     "name": "stderr",
     "output_type": "stream",
     "text": [
      "\n",
      " 34%|██████████████████████████▌                                                    | 504/1500 [00:09<00:17, 57.32it/s]\u001b[A\n",
      " 34%|██████████████████████████▉                                                    | 511/1500 [00:09<00:16, 60.21it/s]\u001b[A"
     ]
    },
    {
     "name": "stdout",
     "output_type": "stream",
     "text": [
      "\n",
      "3375.909477890553\n",
      "3374.1185050557365\n",
      "3371.9594845362008\n",
      "3369.8306961586777\n",
      "3373.6115041773655\n",
      "3370.6294462460796\n",
      "3373.701845014151\n",
      "3372.007169110561\n",
      "3370.7430726671478\n",
      "3368.6184430463054\n",
      "3372.3125011345505\n",
      "3370.1747041393332\n"
     ]
    },
    {
     "name": "stderr",
     "output_type": "stream",
     "text": [
      "\n",
      " 35%|███████████████████████████▎                                                   | 518/1500 [00:09<00:16, 60.29it/s]\u001b[A"
     ]
    },
    {
     "name": "stdout",
     "output_type": "stream",
     "text": [
      "3368.05953483244\n",
      "3365.971195255149\n",
      "3363.914188082289\n",
      "3361.961476315237\n",
      "3360.0211856576393\n",
      "3357.9945567818672\n",
      "3363.8734239823307\n",
      "3364.864038972904\n",
      "3362.81783654188\n",
      "3360.799067892827\n",
      "3359.380704741757\n",
      "3357.356553792744\n"
     ]
    },
    {
     "name": "stderr",
     "output_type": "stream",
     "text": [
      "\n",
      " 35%|███████████████████████████▋                                                   | 525/1500 [00:09<00:16, 57.82it/s]\u001b[A\n",
      " 35%|███████████████████████████▉                                                   | 531/1500 [00:09<00:17, 55.07it/s]\u001b[A"
     ]
    },
    {
     "name": "stdout",
     "output_type": "stream",
     "text": [
      "3355.5732855732494\n",
      "3354.4643370917856\n",
      "3353.0002059861476\n",
      "3351.650013487777\n",
      "3350.123805377719\n",
      "3349.1864689863646\n",
      "3353.3565719516014\n",
      "3356.164678541551\n",
      "3354.17571045554\n",
      "3353.461309880727\n"
     ]
    },
    {
     "name": "stderr",
     "output_type": "stream",
     "text": [
      "\n",
      " 36%|████████████████████████████▎                                                  | 537/1500 [00:09<00:17, 55.74it/s]\u001b[A\n",
      " 36%|████████████████████████████▌                                                  | 543/1500 [00:09<00:17, 55.54it/s]\u001b[A"
     ]
    },
    {
     "name": "stdout",
     "output_type": "stream",
     "text": [
      "3351.4781770313703\n",
      "3349.5136671602795\n",
      "3350.179289747504\n",
      "3350.1219477532422\n",
      "3346.6791466368277\n",
      "3344.892686431796\n",
      "3342.9727465638757\n",
      "3341.081750328199\n",
      "3340.8292435009234\n",
      "3350.5749100422695\n",
      "3348.2304722885037\n",
      "3346.298064195867"
     ]
    },
    {
     "name": "stderr",
     "output_type": "stream",
     "text": [
      "\n",
      " 37%|████████████████████████████▉                                                  | 549/1500 [00:09<00:17, 55.36it/s]\u001b[A\n",
      " 37%|█████████████████████████████▏                                                 | 555/1500 [00:10<00:17, 54.91it/s]\u001b[A"
     ]
    },
    {
     "name": "stdout",
     "output_type": "stream",
     "text": [
      "\n",
      "3344.4703658710923\n",
      "3341.9656153277915\n",
      "3340.0721572847597\n",
      "3338.198800872455\n",
      "3336.3436514641494\n",
      "3334.2966950097575\n",
      "3349.1301108129564\n",
      "3347.410986762154\n",
      "3344.878979175697\n",
      "3343.0137937749605\n",
      "3340.9865093406447"
     ]
    },
    {
     "name": "stderr",
     "output_type": "stream",
     "text": [
      "\n",
      " 37%|█████████████████████████████▌                                                 | 561/1500 [00:10<00:17, 52.27it/s]\u001b[A"
     ]
    },
    {
     "name": "stdout",
     "output_type": "stream",
     "text": [
      "\n",
      "3339.87489346647\n",
      "3340.1989109237006\n",
      "3339.0140610398757\n",
      "3337.1727836757773\n",
      "3335.3516029539305\n",
      "3334.916733765866\n",
      "3332.010319703637\n",
      "3330.1752319381294\n",
      "3326.988300664445\n",
      "3324.7838104872135"
     ]
    },
    {
     "name": "stderr",
     "output_type": "stream",
     "text": [
      "\n",
      " 38%|█████████████████████████████▊                                                 | 567/1500 [00:10<00:17, 52.12it/s]\u001b[A\n",
      " 38%|██████████████████████████████▏                                                | 574/1500 [00:10<00:16, 56.07it/s]\u001b[A"
     ]
    },
    {
     "name": "stdout",
     "output_type": "stream",
     "text": [
      "\n",
      "3323.5577278434153\n",
      "3321.7454371441822\n",
      "3319.6293747187046\n",
      "3318.1684962798154\n",
      "3316.36636503953\n",
      "3314.5845036514324\n",
      "3313.3841290221103\n",
      "3311.0131952533056\n",
      "3314.3031568959304\n",
      "3315.7137292823895\n",
      "3313.8549371238346\n"
     ]
    },
    {
     "name": "stderr",
     "output_type": "stream",
     "text": [
      "\n",
      " 39%|██████████████████████████████▌                                                | 580/1500 [00:10<00:16, 54.89it/s]\u001b[A\n",
      " 39%|██████████████████████████████▉                                                | 587/1500 [00:10<00:16, 56.71it/s]\u001b[A"
     ]
    },
    {
     "name": "stdout",
     "output_type": "stream",
     "text": [
      "3310.5512759166522\n",
      "3310.9417297796285\n",
      "3309.119722322838\n",
      "3307.31452313299\n",
      "3311.3653522271893\n",
      "3311.1069085749796\n",
      "3309.3075901852667\n",
      "3307.371310004069\n",
      "3305.5751529770364\n",
      "3303.796709050391\n",
      "3303.5199540646386"
     ]
    },
    {
     "name": "stderr",
     "output_type": "stream",
     "text": [
      "\n",
      " 40%|███████████████████████████████▏                                               | 593/1500 [00:10<00:16, 55.15it/s]\u001b[A"
     ]
    },
    {
     "name": "stdout",
     "output_type": "stream",
     "text": [
      "\n",
      "3309.1773018569015\n",
      "3308.5053480632782\n",
      "3306.6739878227677\n",
      "3305.4189032658037\n",
      "3298.7105358535455\n",
      "3296.912132861964\n",
      "3314.3898065164667\n",
      "3317.7628893432748\n",
      "3321.6182828222595\n",
      "3328.6520688422374\n"
     ]
    },
    {
     "name": "stderr",
     "output_type": "stream",
     "text": [
      "\n",
      " 40%|███████████████████████████████▌                                               | 599/1500 [00:10<00:16, 53.63it/s]\u001b[A\n",
      " 40%|███████████████████████████████▊                                               | 605/1500 [00:10<00:16, 54.94it/s]\u001b[A"
     ]
    },
    {
     "name": "stdout",
     "output_type": "stream",
     "text": [
      "3327.4557234491003\n",
      "3325.6320784340264\n",
      "3342.657372967329\n",
      "3338.8078765286805\n",
      "3339.4996427189535\n",
      "3352.335023686127\n",
      "3350.4606062636394\n",
      "3348.6048030200755\n",
      "3346.9798207168583\n",
      "3343.9644230881004\n",
      "3341.740711468823"
     ]
    },
    {
     "name": "stderr",
     "output_type": "stream",
     "text": [
      "\n",
      " 41%|████████████████████████████████▏                                              | 611/1500 [00:11<00:16, 53.85it/s]\u001b[A\n",
      " 41%|████████████████████████████████▍                                              | 617/1500 [00:11<00:16, 53.12it/s]\u001b[A"
     ]
    },
    {
     "name": "stdout",
     "output_type": "stream",
     "text": [
      "\n",
      "3339.9233509221963\n",
      "3346.466467842877\n",
      "3344.6736975593376\n",
      "3347.8091550730264\n",
      "3347.4355783165875\n",
      "3346.8560022206193\n",
      "3347.404821273755\n",
      "3343.4228431923866\n",
      "3341.5608526040432\n"
     ]
    },
    {
     "name": "stderr",
     "output_type": "stream",
     "text": [
      "\n",
      " 42%|████████████████████████████████▊                                              | 623/1500 [00:11<00:16, 54.01it/s]\u001b[A\n",
      " 42%|█████████████████████████████████▏                                             | 630/1500 [00:11<00:15, 57.40it/s]\u001b[A"
     ]
    },
    {
     "name": "stdout",
     "output_type": "stream",
     "text": [
      "3341.470379697607\n",
      "3339.608864997563\n",
      "3337.7644213467124\n",
      "3336.782546058666\n",
      "3334.9480026488973\n",
      "3333.0594454413326\n",
      "3332.1788013236214\n",
      "3330.34843138177\n",
      "3328.7180145716325\n",
      "3326.8986127937023\n",
      "3330.689781161938\n",
      "3328.8616280390497\n",
      "3330.2056836795923"
     ]
    },
    {
     "name": "stderr",
     "output_type": "stream",
     "text": [
      "\n",
      " 42%|█████████████████████████████████▍                                             | 636/1500 [00:11<00:15, 57.37it/s]\u001b[A"
     ]
    },
    {
     "name": "stdout",
     "output_type": "stream",
     "text": [
      "\n",
      "3334.3176165031914\n",
      "3335.1816032523475\n",
      "3333.314029410388\n",
      "3331.4663600063905\n",
      "3330.8979029784023\n",
      "3329.047060559576\n",
      "3330.7034569247216\n",
      "3337.524945097083\n",
      "3339.979519939317\n",
      "3337.889182193496\n",
      "3339.5552384670927\n"
     ]
    },
    {
     "name": "stderr",
     "output_type": "stream",
     "text": [
      "\n",
      " 43%|█████████████████████████████████▊                                             | 643/1500 [00:11<00:14, 57.83it/s]\u001b[A\n",
      " 43%|██████████████████████████████████▎                                            | 651/1500 [00:11<00:14, 59.77it/s]\u001b[A"
     ]
    },
    {
     "name": "stdout",
     "output_type": "stream",
     "text": [
      "3337.6253374275816\n",
      "3344.938671360294\n",
      "3342.9446493025184\n",
      "3340.443028745938\n",
      "3338.4670364117783\n",
      "3336.2957810648727\n",
      "3334.3246548643583\n",
      "3332.832419489354\n",
      "3329.375728130699\n",
      "3328.550165793928\n",
      "3326.6143935681894\n",
      "3324.701000749249\n",
      "3322.803778035915\n"
     ]
    },
    {
     "name": "stderr",
     "output_type": "stream",
     "text": [
      "\n",
      " 44%|██████████████████████████████████▋                                            | 658/1500 [00:11<00:14, 59.47it/s]\u001b[A\n",
      " 44%|██████████████████████████████████▉                                            | 664/1500 [00:11<00:14, 58.83it/s]\u001b[A"
     ]
    },
    {
     "name": "stdout",
     "output_type": "stream",
     "text": [
      "3321.4587392150856\n",
      "3323.2368540276752\n",
      "3324.4442717957104\n",
      "3322.5382446296926\n",
      "3324.279975239591\n",
      "3322.3934877241736\n",
      "3321.823234104204\n",
      "3319.94528165736\n",
      "3315.4781251913337\n",
      "3310.8757515318375\n",
      "3309.0360235277776"
     ]
    },
    {
     "name": "stderr",
     "output_type": "stream",
     "text": [
      "\n",
      " 45%|███████████████████████████████████▎                                           | 670/1500 [00:12<00:14, 56.65it/s]\u001b[A\n",
      " 45%|███████████████████████████████████▌                                           | 676/1500 [00:12<00:14, 57.05it/s]\u001b[A"
     ]
    },
    {
     "name": "stdout",
     "output_type": "stream",
     "text": [
      "\n",
      "3306.931618068384\n",
      "3305.0955785417004\n",
      "3303.274488985308\n",
      "3301.4692166824843\n",
      "3299.6774633552077\n",
      "3302.548785044857\n",
      "3301.123634955077\n",
      "3299.3106404689343\n",
      "3301.3388451560513\n",
      "3302.2843175688245\n"
     ]
    },
    {
     "name": "stderr",
     "output_type": "stream",
     "text": [
      "\n",
      " 45%|███████████████████████████████████▉                                           | 682/1500 [00:12<00:14, 56.77it/s]\u001b[A"
     ]
    },
    {
     "name": "stdout",
     "output_type": "stream",
     "text": [
      "3299.9874428757316\n",
      "3296.8590013817034\n",
      "3295.0452214976845\n",
      "3293.24825329534\n",
      "3291.1392153139295\n",
      "3289.3631018435453\n",
      "3288.1441806972966\n",
      "3287.202479502106\n",
      "3288.4387147524853\n",
      "3287.088761238242\n",
      "3285.284736300732\n",
      "3284.8926340440585\n"
     ]
    },
    {
     "name": "stderr",
     "output_type": "stream",
     "text": [
      "\n",
      " 46%|████████████████████████████████████▎                                          | 689/1500 [00:12<00:13, 58.70it/s]\u001b[A\n",
      " 46%|████████████████████████████████████▋                                          | 696/1500 [00:12<00:13, 61.31it/s]\u001b[A"
     ]
    },
    {
     "name": "stdout",
     "output_type": "stream",
     "text": [
      "3283.090491488664\n",
      "3281.300902299058\n",
      "3279.9557790115246\n",
      "3281.0971846340644\n",
      "3278.6060383179265\n",
      "3276.788308209415\n",
      "3274.9876492759804\n",
      "3273.9654862247166\n",
      "3272.1823835032483\n",
      "3270.416996761664"
     ]
    },
    {
     "name": "stderr",
     "output_type": "stream",
     "text": [
      "\n",
      " 47%|█████████████████████████████████████                                          | 703/1500 [00:12<00:15, 51.11it/s]\u001b[A"
     ]
    },
    {
     "name": "stdout",
     "output_type": "stream",
     "text": [
      "\n",
      "3268.6675238645444\n",
      "3277.04421632317\n",
      "3275.6916645574374\n",
      "3273.924801347854\n",
      "3272.562615292548\n",
      "3270.847507661459\n",
      "3269.1466972496323\n"
     ]
    },
    {
     "name": "stderr",
     "output_type": "stream",
     "text": [
      "\n",
      " 47%|█████████████████████████████████████▎                                         | 709/1500 [00:12<00:16, 46.96it/s]\u001b[A"
     ]
    },
    {
     "name": "stdout",
     "output_type": "stream",
     "text": [
      "3267.8746796206506\n",
      "3268.363875097024\n",
      "3266.659268554361\n",
      "3265.707203873433\n",
      "3266.8697497601042\n",
      "3265.871709721865\n",
      "3263.4649919733956\n",
      "3271.0231867972866\n"
     ]
    },
    {
     "name": "stderr",
     "output_type": "stream",
     "text": [
      "\n",
      " 48%|█████████████████████████████████████▌                                         | 714/1500 [00:12<00:16, 47.12it/s]\u001b[A\n",
      " 48%|█████████████████████████████████████▉                                         | 720/1500 [00:13<00:15, 50.02it/s]\u001b[A"
     ]
    },
    {
     "name": "stdout",
     "output_type": "stream",
     "text": [
      "3269.2676497028324\n",
      "3278.996270479721\n",
      "3279.0186106271367\n",
      "3277.1821100390407\n",
      "3275.1932443206165\n",
      "3278.246324641035\n",
      "3276.4041264291145\n",
      "3281.583673920513\n",
      "3279.9403325434837\n",
      "3278.099224015475\n",
      "3273.5424361149235\n",
      "3271.822198502259\n",
      "3270.4959285732525"
     ]
    },
    {
     "name": "stderr",
     "output_type": "stream",
     "text": [
      "\n",
      " 48%|██████████████████████████████████████▎                                        | 727/1500 [00:13<00:14, 53.06it/s]\u001b[A\n",
      " 49%|██████████████████████████████████████▌                                        | 733/1500 [00:13<00:14, 54.00it/s]\u001b[A"
     ]
    },
    {
     "name": "stdout",
     "output_type": "stream",
     "text": [
      "\n",
      "3267.2719254817957\n",
      "3265.451345090811\n",
      "3263.5681156428295\n",
      "3261.7514193084653\n",
      "3262.764290630343\n",
      "3253.184508676404\n",
      "3257.2547401519414\n",
      "3257.455709543548\n",
      "3255.6496077295924\n",
      "3253.861482845051\n",
      "3252.09608710667"
     ]
    },
    {
     "name": "stderr",
     "output_type": "stream",
     "text": [
      "\n",
      " 49%|██████████████████████████████████████▉                                        | 739/1500 [00:13<00:14, 54.14it/s]\u001b[A\n",
      " 50%|███████████████████████████████████████▎                                       | 746/1500 [00:13<00:13, 55.80it/s]\u001b[A"
     ]
    },
    {
     "name": "stdout",
     "output_type": "stream",
     "text": [
      "\n",
      "3263.406644094739\n",
      "3261.6186832662784\n",
      "3260.442783937886\n",
      "3258.677176711984\n",
      "3256.9328675248566\n",
      "3255.200429863766\n",
      "3253.486361293087\n",
      "3251.787006243856\n",
      "3250.329122313922\n",
      "3249.479596644308\n",
      "3247.894204411581"
     ]
    },
    {
     "name": "stderr",
     "output_type": "stream",
     "text": [
      "\n",
      " 50%|███████████████████████████████████████▌                                       | 752/1500 [00:13<00:13, 55.95it/s]\u001b[A\n",
      " 51%|███████████████████████████████████████▉                                       | 759/1500 [00:13<00:13, 56.32it/s]"
     ]
    },
    {
     "name": "stdout",
     "output_type": "stream",
     "text": [
      "\n",
      "3246.2325429691655\n",
      "3244.5861211514334\n",
      "3242.956392212135\n",
      "3241.341543302093\n",
      "3239.736936061517\n",
      "3238.1429065253124\n",
      "3236.565667002358\n",
      "3236.238831229941\n",
      "3240.3910140193457\n",
      "3233.6259984244825\n"
     ]
    },
    {
     "name": "stderr",
     "output_type": "stream",
     "text": [
      "\u001b[A\n",
      " 51%|████████████████████████████████████████▎                                      | 765/1500 [00:13<00:12, 56.96it/s]\u001b[A"
     ]
    },
    {
     "name": "stdout",
     "output_type": "stream",
     "text": [
      "3232.349921013693\n",
      "3230.72735415101\n",
      "3229.117352729436\n",
      "3227.5185460515895\n",
      "3225.9290404884982\n",
      "3224.3505597938984\n",
      "3222.789434518914\n",
      "3222.2782031772354\n",
      "3225.219149595097\n",
      "3222.6357622037126\n",
      "3221.0582060142724\n"
     ]
    },
    {
     "name": "stderr",
     "output_type": "stream",
     "text": [
      "\n",
      " 51%|████████████████████████████████████████▌                                      | 771/1500 [00:13<00:13, 53.76it/s]\u001b[A\n",
      " 52%|████████████████████████████████████████▉                                      | 777/1500 [00:14<00:13, 53.59it/s]\u001b[A"
     ]
    },
    {
     "name": "stdout",
     "output_type": "stream",
     "text": [
      "3222.5961351693113\n",
      "3221.6630532073505\n",
      "3220.0651401550526\n",
      "3219.2926237780507\n",
      "3219.139722760558\n",
      "3223.0211262580756\n",
      "3221.426476667754\n",
      "3219.847427803876\n",
      "3218.489830825773\n",
      "3216.93303876913\n",
      "3215.3855941253046"
     ]
    },
    {
     "name": "stderr",
     "output_type": "stream",
     "text": [
      "\n",
      " 52%|█████████████████████████████████████████▎                                     | 784/1500 [00:14<00:12, 55.43it/s]\u001b[A\n",
      " 53%|█████████████████████████████████████████▋                                     | 791/1500 [00:14<00:12, 58.32it/s]\u001b[A"
     ]
    },
    {
     "name": "stdout",
     "output_type": "stream",
     "text": [
      "\n",
      "3213.852769399978\n",
      "3212.3352572644044\n",
      "3210.8092878099055\n",
      "3209.297468456711\n",
      "3207.7946890042886\n",
      "3206.3878603546523\n",
      "3205.222146110822\n",
      "3203.745671515506\n",
      "3213.7226585963795\n",
      "3212.2299356008384\n",
      "3210.267481583417\n",
      "3208.525339898535"
     ]
    },
    {
     "name": "stderr",
     "output_type": "stream",
     "text": [
      "\n",
      " 53%|█████████████████████████████████████████▉                                     | 797/1500 [00:14<00:12, 54.26it/s]\u001b[A"
     ]
    },
    {
     "name": "stdout",
     "output_type": "stream",
     "text": [
      "\n",
      "3215.823823408146\n",
      "3214.308564110856\n",
      "3212.5433869551816\n",
      "3211.459994020011\n",
      "3209.953295463878\n",
      "3208.4581059151506\n",
      "3207.2924872952285\n",
      "3206.105616603495\n",
      "3204.596961252999\n",
      "3203.1029850799\n"
     ]
    },
    {
     "name": "stderr",
     "output_type": "stream",
     "text": [
      "\n",
      " 54%|██████████████████████████████████████████▎                                    | 803/1500 [00:14<00:13, 52.35it/s]\u001b[A\n",
      " 54%|██████████████████████████████████████████▌                                    | 809/1500 [00:14<00:13, 52.18it/s]\u001b[A"
     ]
    },
    {
     "name": "stdout",
     "output_type": "stream",
     "text": [
      "3201.6204834865507\n",
      "3200.301455916267\n",
      "3198.8322654048966\n",
      "3198.8642646753424\n",
      "3197.3961292262848\n",
      "3195.9394436818034\n",
      "3194.492703851354\n",
      "3193.057120165796\n",
      "3191.83761763553\n",
      "3190.404850539493\n",
      "3189.5704934496916"
     ]
    },
    {
     "name": "stderr",
     "output_type": "stream",
     "text": [
      "\n",
      " 54%|██████████████████████████████████████████▉                                    | 815/1500 [00:14<00:12, 53.37it/s]\u001b[A\n",
      " 55%|███████████████████████████████████████████▏                                   | 821/1500 [00:14<00:12, 53.09it/s]\u001b[A"
     ]
    },
    {
     "name": "stdout",
     "output_type": "stream",
     "text": [
      "\n",
      "3188.141779049288\n",
      "3186.7251158610125\n",
      "3188.358378823753\n",
      "3186.9404739648962\n",
      "3191.147822515543\n",
      "3189.679065090317\n",
      "3188.711682747936\n",
      "3187.248336775375\n",
      "3188.7631423898165\n",
      "3187.7880115917533"
     ]
    },
    {
     "name": "stderr",
     "output_type": "stream",
     "text": [
      "\n",
      " 55%|███████████████████████████████████████████▌                                   | 827/1500 [00:14<00:12, 54.35it/s]\u001b[A\n",
      " 56%|███████████████████████████████████████████▊                                   | 833/1500 [00:15<00:12, 54.78it/s]\u001b[A"
     ]
    },
    {
     "name": "stdout",
     "output_type": "stream",
     "text": [
      "\n",
      "3186.291401490142\n",
      "3184.8943733290516\n",
      "3183.418689536196\n",
      "3181.955258023457\n",
      "3180.5061575367868\n",
      "3180.520761863066\n",
      "3177.4700897134358\n",
      "3180.979597607569\n",
      "3179.51365620485\n",
      "3178.9783642517655\n"
     ]
    },
    {
     "name": "stderr",
     "output_type": "stream",
     "text": [
      "\n",
      " 56%|████████████████████████████████████████████▏                                  | 839/1500 [00:15<00:12, 53.26it/s]\u001b[A\n"
     ]
    },
    {
     "name": "stdout",
     "output_type": "stream",
     "text": [
      "3177.524956099623\n",
      "3176.083005185079\n",
      "3177.430030369266\n",
      "3176.3998493327504\n",
      "3180.1251852651567\n",
      "3178.6688227519903\n",
      "3176.1937332815783\n",
      "3176.846192990941\n",
      "3175.2753442271555\n",
      "3172.6078716926263\n",
      "3171.0735385835737\n"
     ]
    },
    {
     "name": "stderr",
     "output_type": "stream",
     "text": [
      " 56%|████████████████████████████████████████████▌                                  | 845/1500 [00:15<00:11, 54.89it/s]\u001b[A\n",
      " 57%|████████████████████████████████████████████▊                                  | 851/1500 [00:15<00:11, 56.19it/s]\u001b[A"
     ]
    },
    {
     "name": "stdout",
     "output_type": "stream",
     "text": [
      "3169.5481203936824\n",
      "3167.241437181327\n",
      "3165.704481120017\n",
      "3164.537581730244\n",
      "3163.0078850543705\n",
      "3161.9393100011453\n",
      "3169.448374879727\n",
      "3167.826338695161\n",
      "3164.9237063123246\n",
      "3163.327693924744\n",
      "3161.742976121933\n",
      "3160.1769645989616"
     ]
    },
    {
     "name": "stderr",
     "output_type": "stream",
     "text": [
      "\n",
      " 57%|█████████████████████████████████████████████▏                                 | 857/1500 [00:15<00:11, 56.39it/s]\u001b[A\n",
      " 58%|█████████████████████████████████████████████▍                                 | 863/1500 [00:15<00:11, 54.99it/s]\u001b[A"
     ]
    },
    {
     "name": "stdout",
     "output_type": "stream",
     "text": [
      "\n",
      "3158.6239438473103\n",
      "3157.458633101199\n",
      "3155.8912022013883\n",
      "3163.7244776206317\n",
      "3162.1638891351877\n",
      "3161.075502443433\n",
      "3159.527731457369\n",
      "3157.9905526903713\n",
      "3155.0347623194552"
     ]
    },
    {
     "name": "stderr",
     "output_type": "stream",
     "text": [
      "\n",
      " 58%|█████████████████████████████████████████████▊                                 | 870/1500 [00:15<00:11, 56.68it/s]\u001b[A\n",
      " 58%|██████████████████████████████████████████████▏                                | 877/1500 [00:15<00:10, 59.31it/s]\u001b[A"
     ]
    },
    {
     "name": "stdout",
     "output_type": "stream",
     "text": [
      "\n",
      "3159.0970066582727\n",
      "3157.735367389653\n",
      "3156.1777502890386\n",
      "3159.060846863414\n",
      "3157.523012418908\n",
      "3168.1486916343338\n",
      "3166.5985318924236\n",
      "3165.0608298086786\n",
      "3163.5359031195594\n",
      "3162.023048377013\n",
      "3160.520493445482\n",
      "3159.0277257870425"
     ]
    },
    {
     "name": "stderr",
     "output_type": "stream",
     "text": [
      "\n",
      " 59%|██████████████████████████████████████████████▌                                | 883/1500 [00:15<00:10, 58.41it/s]\u001b[A"
     ]
    },
    {
     "name": "stdout",
     "output_type": "stream",
     "text": [
      "\n",
      "3158.8386241082426\n",
      "3157.356944746735\n",
      "3162.0213099053717\n",
      "3160.5153932121916\n",
      "3159.4165163661823\n",
      "3157.9120490635855\n",
      "3156.4219547083094\n",
      "3154.9440995408704\n",
      "3154.8064694909094\n",
      "3153.314803597835\n",
      "3151.8349767889044\n",
      "3149.2142715367063\n"
     ]
    },
    {
     "name": "stderr",
     "output_type": "stream",
     "text": [
      "\n",
      " 59%|██████████████████████████████████████████████▊                                | 890/1500 [00:16<00:10, 60.10it/s]\u001b[A\n",
      " 60%|███████████████████████████████████████████████▏                               | 897/1500 [00:16<00:09, 62.01it/s]\u001b[A"
     ]
    },
    {
     "name": "stdout",
     "output_type": "stream",
     "text": [
      "3157.775676334681\n",
      "3156.317524753713\n",
      "3154.7507045314564\n",
      "3153.5455896850676\n",
      "3154.5198945289953\n",
      "3153.3893455510824\n",
      "3152.526024041304\n",
      "3151.2371176936504\n",
      "3154.148535526535\n",
      "3152.640106698774\n",
      "3152.3856628027347\n",
      "3150.7700208813526\n",
      "3152.4409591060316"
     ]
    },
    {
     "name": "stderr",
     "output_type": "stream",
     "text": [
      "\n",
      " 60%|███████████████████████████████████████████████▌                               | 904/1500 [00:16<00:09, 60.39it/s]\u001b[A\n",
      " 61%|███████████████████████████████████████████████▉                               | 911/1500 [00:16<00:10, 57.66it/s]\u001b[A"
     ]
    },
    {
     "name": "stdout",
     "output_type": "stream",
     "text": [
      "\n",
      "3150.9368298036907\n",
      "3149.4433141886143\n",
      "3147.9595599402196\n",
      "3149.5732061405893\n",
      "3148.0568519802423\n",
      "3146.5539921472637\n",
      "3145.4082684716673\n",
      "3143.908299157651\n",
      "3143.199568593057\n",
      "3141.7085164075866\n"
     ]
    },
    {
     "name": "stderr",
     "output_type": "stream",
     "text": [
      "\n",
      " 61%|████████████████████████████████████████████████▎                              | 918/1500 [00:16<00:09, 58.52it/s]\u001b[A\n"
     ]
    },
    {
     "name": "stdout",
     "output_type": "stream",
     "text": [
      "3140.2321508645364\n",
      "3138.7660896037914\n",
      "3137.3104221415797\n",
      "3136.0455870519963\n",
      "3137.490692254911\n",
      "3136.0400578159038\n",
      "3134.601896310365\n",
      "3133.1738746420606\n",
      "3131.4155233213432\n",
      "3129.9983243282873\n",
      "3128.59286011737\n",
      "3131.4720875998123\n"
     ]
    },
    {
     "name": "stderr",
     "output_type": "stream",
     "text": [
      " 62%|████████████████████████████████████████████████▋                              | 925/1500 [00:16<00:09, 58.29it/s]\u001b[A\n",
      " 62%|█████████████████████████████████████████████████                              | 931/1500 [00:16<00:10, 56.49it/s]\u001b[A"
     ]
    },
    {
     "name": "stdout",
     "output_type": "stream",
     "text": [
      "3126.0254227171627\n",
      "3124.9811136662083\n",
      "3123.5198194335867\n",
      "3122.069806248961\n",
      "3120.203511476914\n",
      "3118.761398333464\n",
      "3117.3298262283943\n",
      "3115.891094367817\n",
      "3128.217163551625\n",
      "3126.8328420109633"
     ]
    },
    {
     "name": "stderr",
     "output_type": "stream",
     "text": [
      "\n",
      " 62%|█████████████████████████████████████████████████▎                             | 937/1500 [00:16<00:10, 54.90it/s]\u001b[A\n",
      " 63%|█████████████████████████████████████████████████▋                             | 943/1500 [00:16<00:10, 54.43it/s]\u001b[A"
     ]
    },
    {
     "name": "stdout",
     "output_type": "stream",
     "text": [
      "\n",
      "3125.0682555303615\n",
      "3123.5622727564637\n",
      "3123.134336114928\n",
      "3135.171661157713\n",
      "3134.0969975618923\n",
      "3132.540932129269\n",
      "3130.9933191093737\n",
      "3134.7496926063363\n",
      "3133.151424302732\n",
      "3130.650925273671\n"
     ]
    },
    {
     "name": "stderr",
     "output_type": "stream",
     "text": [
      "\n",
      " 63%|█████████████████████████████████████████████████▉                             | 949/1500 [00:17<00:10, 54.76it/s]\u001b[A\n",
      " 64%|██████████████████████████████████████████████████▎                            | 956/1500 [00:17<00:09, 57.40it/s]\u001b[A"
     ]
    },
    {
     "name": "stdout",
     "output_type": "stream",
     "text": [
      "3129.038855250605\n",
      "3127.4420343604634\n",
      "3125.8697044096266\n",
      "3124.2915751763635\n",
      "3122.7263325152967\n",
      "3121.1754499654894\n",
      "3119.6327326620744\n",
      "3118.1019701717037\n",
      "3116.582118376565\n",
      "3115.076515805594\n",
      "3113.583665431546\n",
      "3112.2116958895003\n",
      "3111.2398253836436"
     ]
    },
    {
     "name": "stderr",
     "output_type": "stream",
     "text": [
      "\n",
      " 64%|██████████████████████████████████████████████████▋                            | 962/1500 [00:17<00:09, 54.23it/s]\u001b[A"
     ]
    },
    {
     "name": "stdout",
     "output_type": "stream",
     "text": [
      "\n",
      "3109.739619453729\n",
      "3108.253365379013\n",
      "3112.6066046530264\n",
      "3111.0805529158333\n",
      "3109.5672894979343\n",
      "3108.0643320209374\n",
      "3119.282278910142\n",
      "3117.779350340253\n",
      "3116.2897134198984\n"
     ]
    },
    {
     "name": "stderr",
     "output_type": "stream",
     "text": [
      "\n",
      " 65%|██████████████████████████████████████████████████▉                            | 968/1500 [00:17<00:09, 53.89it/s]\u001b[A\n",
      " 65%|███████████████████████████████████████████████████▎                           | 974/1500 [00:17<00:09, 54.51it/s]\u001b[A"
     ]
    },
    {
     "name": "stdout",
     "output_type": "stream",
     "text": [
      "3115.1618828010787\n",
      "3118.220212682083\n",
      "3123.803557225374\n",
      "3125.7972308724206\n",
      "3125.0355328899677\n",
      "3129.4847228472495\n",
      "3127.967859559463\n",
      "3126.4646345312035\n",
      "3143.127722065344\n",
      "3141.594244734046\n",
      "3140.071322299364\n",
      "3138.5586423622076"
     ]
    },
    {
     "name": "stderr",
     "output_type": "stream",
     "text": [
      "\n",
      " 65%|███████████████████████████████████████████████████▌                           | 980/1500 [00:17<00:09, 54.76it/s]\u001b[A\n",
      " 66%|███████████████████████████████████████████████████▉                           | 987/1500 [00:17<00:08, 58.49it/s]\u001b[A"
     ]
    },
    {
     "name": "stdout",
     "output_type": "stream",
     "text": [
      "\n",
      "3140.026227109152\n",
      "3138.516937655187\n",
      "3137.018457768764\n",
      "3144.512215431445\n",
      "3142.9705036368605\n",
      "3141.4386570885204\n",
      "3141.754776744975\n",
      "3140.2079329643\n",
      "3138.67529374453\n",
      "3137.1534139655087\n",
      "3135.6443793572957"
     ]
    },
    {
     "name": "stderr",
     "output_type": "stream",
     "text": [
      "\n",
      " 66%|████████████████████████████████████████████████████▎                          | 993/1500 [00:17<00:09, 56.19it/s]\u001b[A\n",
      " 67%|████████████████████████████████████████████████████▌                          | 999/1500 [00:17<00:08, 55.71it/s]"
     ]
    },
    {
     "name": "stdout",
     "output_type": "stream",
     "text": [
      "\n",
      "3139.8633872791784\n",
      "3138.3325175960313\n",
      "3136.815348111579\n",
      "3135.6907599436963\n",
      "3134.166695915933\n",
      "3132.655329152378\n",
      "3131.213252954749\n",
      "3129.716447049244\n",
      "3128.373025869522\n"
     ]
    },
    {
     "name": "stderr",
     "output_type": "stream",
     "text": [
      "\u001b[A\n",
      " 67%|████████████████████████████████████████████████████▎                         | 1006/1500 [00:18<00:08, 57.19it/s]\u001b[A"
     ]
    },
    {
     "name": "stdout",
     "output_type": "stream",
     "text": [
      "3126.871862581776\n",
      "3128.0904709712545\n",
      "3126.5710083213926\n",
      "3125.062851369517\n",
      "3125.0429326744897\n",
      "3127.9324241768913\n",
      "3129.3637505301203\n",
      "3128.9952106121523\n",
      "3127.4195924422816\n",
      "3125.8556333796982\n",
      "3119.911953863313\n",
      "3118.3608174183446\n"
     ]
    },
    {
     "name": "stderr",
     "output_type": "stream",
     "text": [
      "\n",
      " 67%|████████████████████████████████████████████████████▌                         | 1012/1500 [00:18<00:08, 54.80it/s]\u001b[A\n",
      " 68%|████████████████████████████████████████████████████▉                         | 1018/1500 [00:18<00:08, 55.96it/s]\u001b[A"
     ]
    },
    {
     "name": "stdout",
     "output_type": "stream",
     "text": [
      "3119.5316821799997\n",
      "3118.000476981045\n",
      "3116.480767742971\n",
      "3114.9526094026255\n",
      "3113.4413691456043\n",
      "3116.954430542825\n",
      "3115.803967958647\n",
      "3114.3069725789105\n",
      "3112.818723535156\n",
      "3111.8503882310924\n",
      "3110.36376514187"
     ]
    },
    {
     "name": "stderr",
     "output_type": "stream",
     "text": [
      "\n",
      " 68%|█████████████████████████████████████████████████████▏                        | 1024/1500 [00:18<00:08, 54.20it/s]\u001b[A\n",
      " 69%|█████████████████████████████████████████████████████▌                        | 1031/1500 [00:18<00:08, 57.77it/s]\u001b[A"
     ]
    },
    {
     "name": "stdout",
     "output_type": "stream",
     "text": [
      "\n",
      "3108.890016364117\n",
      "3106.479245770022\n",
      "3105.015895435344\n",
      "3107.096078816725\n",
      "3105.6244179897008\n",
      "3145.5224431272127\n",
      "3144.0074650842257\n",
      "3140.4072107181128\n",
      "3138.9145381947296\n",
      "3137.4310570147113\n",
      "3135.956903663119"
     ]
    },
    {
     "name": "stderr",
     "output_type": "stream",
     "text": [
      "\n",
      " 69%|█████████████████████████████████████████████████████▉                        | 1037/1500 [00:18<00:07, 58.13it/s]\u001b[A\n"
     ]
    },
    {
     "name": "stdout",
     "output_type": "stream",
     "text": [
      "\n",
      "3134.493705889303\n",
      "3133.0412039308353\n",
      "3131.6005715577276\n",
      "3130.1702252314185\n",
      "3128.751312044603\n",
      "3127.3425036062695\n",
      "3125.945511199624\n",
      "3124.558334933784\n",
      "3124.585560205359\n",
      "3122.4837136026363\n"
     ]
    },
    {
     "name": "stderr",
     "output_type": "stream",
     "text": [
      " 70%|██████████████████████████████████████████████████████▏                       | 1043/1500 [00:18<00:08, 56.77it/s]\u001b[A\n",
      " 70%|██████████████████████████████████████████████████████▌                       | 1049/1500 [00:18<00:07, 57.20it/s]\u001b[A"
     ]
    },
    {
     "name": "stdout",
     "output_type": "stream",
     "text": [
      "3122.0448051020535\n",
      "3129.6561819293083\n",
      "3128.207385412662\n",
      "3126.768416501703\n",
      "3126.8479833601145\n",
      "3125.419692393724\n",
      "3124.0018205201277\n",
      "3133.5121798019145\n",
      "3132.1424916611013\n",
      "3130.6587172670374\n",
      "3129.9804697598443\n"
     ]
    },
    {
     "name": "stderr",
     "output_type": "stream",
     "text": [
      "\n",
      " 70%|██████████████████████████████████████████████████████▊                       | 1055/1500 [00:18<00:07, 56.87it/s]\u001b[A\n",
      " 71%|███████████████████████████████████████████████████████▏                      | 1061/1500 [00:19<00:07, 56.66it/s]\u001b[A"
     ]
    },
    {
     "name": "stdout",
     "output_type": "stream",
     "text": [
      "3128.504088981609\n",
      "3127.0385706291436\n",
      "3126.47409284313\n",
      "3125.7144437418688\n",
      "3124.2654781275764\n",
      "3123.3007562228067\n",
      "3121.866762359197\n",
      "3120.443145651208\n",
      "3119.0317690634943\n"
     ]
    },
    {
     "name": "stderr",
     "output_type": "stream",
     "text": [
      "\n",
      " 71%|███████████████████████████████████████████████████████▍                      | 1067/1500 [00:19<00:10, 43.10it/s]\u001b[A"
     ]
    },
    {
     "name": "stdout",
     "output_type": "stream",
     "text": [
      "3118.151675047648\n",
      "3116.7594380034448\n",
      "3118.473058350065\n",
      "3117.082937989194\n",
      "3126.0804486991497\n",
      "3124.6955167983456\n",
      "3123.686068300025\n",
      "3122.3049293279328\n",
      "3120.936038762716\n",
      "3120.9576630004026\n"
     ]
    },
    {
     "name": "stderr",
     "output_type": "stream",
     "text": [
      "\n",
      " 72%|███████████████████████████████████████████████████████▊                      | 1073/1500 [00:19<00:09, 46.81it/s]\u001b[A\n",
      " 72%|████████████████████████████████████████████████████████                      | 1079/1500 [00:19<00:08, 49.54it/s]\u001b[A"
     ]
    },
    {
     "name": "stdout",
     "output_type": "stream",
     "text": [
      "3124.548781257325\n",
      "3123.1257683544154\n",
      "3121.7120505463195\n",
      "3125.855299629197\n",
      "3126.4113550031966\n",
      "3124.939896081487\n",
      "3123.479936990096\n",
      "3122.02893547746\n",
      "3120.5883880931456\n",
      "3120.0841515560537\n",
      "3120.9050425607406"
     ]
    },
    {
     "name": "stderr",
     "output_type": "stream",
     "text": [
      "\n",
      " 72%|████████████████████████████████████████████████████████▍                     | 1085/1500 [00:19<00:08, 49.25it/s]\u001b[A\n",
      " 73%|████████████████████████████████████████████████████████▊                     | 1092/1500 [00:19<00:07, 53.09it/s]\u001b[A"
     ]
    },
    {
     "name": "stdout",
     "output_type": "stream",
     "text": [
      "\n",
      "3123.4799775639103\n",
      "3122.0223723669874\n",
      "3119.476540371118\n",
      "3118.029460779384\n",
      "3115.5437977761194\n",
      "3114.0946157065714\n",
      "3112.6555035623815\n",
      "3131.9255885764424\n",
      "3130.3928483118675\n",
      "3128.870619599103\n",
      "3127.3581020213564"
     ]
    },
    {
     "name": "stderr",
     "output_type": "stream",
     "text": [
      "\n",
      " 73%|█████████████████████████████████████████████████████████                     | 1098/1500 [00:19<00:07, 53.73it/s]\u001b[A\n",
      " 74%|█████████████████████████████████████████████████████████▍                    | 1104/1500 [00:19<00:07, 54.75it/s]\u001b[A"
     ]
    },
    {
     "name": "stdout",
     "output_type": "stream",
     "text": [
      "\n",
      "3125.8540635282566\n",
      "3124.357975174885\n",
      "3122.87157841139\n",
      "3121.393327464517\n",
      "3125.3495123094635\n",
      "3123.832846677577\n",
      "3122.3269589033407\n",
      "3120.8324206743255\n",
      "3119.3472179143096\n",
      "3117.8715686869223\n",
      "3111.6772681909956\n"
     ]
    },
    {
     "name": "stderr",
     "output_type": "stream",
     "text": [
      "\n",
      " 74%|█████████████████████████████████████████████████████████▋                    | 1110/1500 [00:20<00:07, 53.10it/s]\u001b[A\n"
     ]
    },
    {
     "name": "stdout",
     "output_type": "stream",
     "text": [
      "3110.2185298843788\n",
      "3108.771993712847\n",
      "3107.333496912142\n",
      "3113.9676356539635\n",
      "3112.46408925604\n",
      "3109.592015988147\n",
      "3111.562847606308\n",
      "3110.051821647409\n",
      "3108.552539828338\n",
      "3107.060690224281\n",
      "3105.5792345123355\n",
      "3104.107784079558\n"
     ]
    },
    {
     "name": "stderr",
     "output_type": "stream",
     "text": [
      " 75%|██████████████████████████████████████████████████████████▏                   | 1118/1500 [00:20<00:06, 56.69it/s]\u001b[A\n",
      " 75%|██████████████████████████████████████████████████████████▌                   | 1125/1500 [00:20<00:06, 58.68it/s]\u001b[A"
     ]
    },
    {
     "name": "stdout",
     "output_type": "stream",
     "text": [
      "3102.64658116797\n",
      "3101.1951676724375\n",
      "3117.783446489712\n",
      "3116.306550623689\n",
      "3114.8400569983073\n",
      "3113.643631531355\n",
      "3112.184969676538\n",
      "3110.7385758367905\n",
      "3109.4345006381573\n",
      "3109.409948809138\n",
      "3110.301365040336\n",
      "3109.45491522153"
     ]
    },
    {
     "name": "stderr",
     "output_type": "stream",
     "text": [
      "\n",
      " 75%|██████████████████████████████████████████████████████████▊                   | 1131/1500 [00:20<00:06, 58.90it/s]\u001b[A\n",
      " 76%|███████████████████████████████████████████████████████████                   | 1137/1500 [00:20<00:06, 59.01it/s]\u001b[A"
     ]
    },
    {
     "name": "stdout",
     "output_type": "stream",
     "text": [
      "\n",
      "3107.9520885518664\n",
      "3106.459305714474\n",
      "3104.974674506884\n",
      "3109.752007316024\n",
      "3108.792899891314\n",
      "3108.0399318769796\n",
      "3106.544006256175\n",
      "3105.056462512523\n",
      "3103.580354898029\n",
      "3112.085471405563\n",
      "3110.6106657360556"
     ]
    },
    {
     "name": "stderr",
     "output_type": "stream",
     "text": [
      "\n",
      " 76%|███████████████████████████████████████████████████████████▍                  | 1144/1500 [00:20<00:05, 59.35it/s]\u001b[A\n",
      " 77%|███████████████████████████████████████████████████████████▊                  | 1151/1500 [00:20<00:05, 60.79it/s]\u001b[A"
     ]
    },
    {
     "name": "stdout",
     "output_type": "stream",
     "text": [
      "\n",
      "3109.146118104041\n",
      "3107.6904729507996\n",
      "3107.360412721297\n",
      "3105.8951521389754\n",
      "3108.9633783724908\n",
      "3107.516161500474\n",
      "3106.078706646946\n",
      "3104.649769015481\n",
      "3103.2281767759023\n",
      "3101.812920054397\n",
      "3101.0902255626143\n",
      "3099.667242997728\n"
     ]
    },
    {
     "name": "stderr",
     "output_type": "stream",
     "text": [
      "\n",
      " 77%|████████████████████████████████████████████████████████████▏                 | 1158/1500 [00:20<00:06, 56.92it/s]\u001b[A"
     ]
    },
    {
     "name": "stdout",
     "output_type": "stream",
     "text": [
      "3096.6478131995605\n",
      "3098.3956444577852\n",
      "3090.908587067366\n",
      "3089.486865501647\n",
      "3088.0754343063204\n",
      "3093.3149655102106\n",
      "3091.894015448324\n",
      "3090.482750795425\n",
      "3089.0806860164885\n",
      "3087.68601534794\n",
      "3086.2990268261547"
     ]
    },
    {
     "name": "stderr",
     "output_type": "stream",
     "text": [
      "\n",
      " 78%|████████████████████████████████████████████████████████████▌                 | 1164/1500 [00:20<00:06, 54.54it/s]\u001b[A\n",
      " 78%|████████████████████████████████████████████████████████████▊                 | 1170/1500 [00:21<00:06, 54.17it/s]\u001b[A"
     ]
    },
    {
     "name": "stdout",
     "output_type": "stream",
     "text": [
      "\n",
      "3092.639050219541\n",
      "3091.2213207343675\n",
      "3089.814710963171\n",
      "3090.4086009055404\n",
      "3091.557061636214\n",
      "3114.853702025129\n",
      "3113.3668207575106\n",
      "3111.890864907264\n",
      "3110.425203321779\n",
      "3111.952150231976"
     ]
    },
    {
     "name": "stderr",
     "output_type": "stream",
     "text": [
      "\n",
      " 78%|█████████████████████████████████████████████████████████████▏                | 1176/1500 [00:21<00:05, 55.50it/s]\u001b[A\n",
      " 79%|█████████████████████████████████████████████████████████████▌                | 1184/1500 [00:21<00:05, 58.67it/s]\u001b[A"
     ]
    },
    {
     "name": "stdout",
     "output_type": "stream",
     "text": [
      "\n",
      "3110.487367752368\n",
      "3109.3361477672556\n",
      "3107.921627460382\n",
      "3113.7563159803926\n",
      "3111.5887968921134\n",
      "3110.02532891412\n",
      "3116.447523779878\n",
      "3114.969532450367\n",
      "3113.675455821527\n",
      "3112.885814498718\n",
      "3111.2569407976303\n",
      "3109.637642565791\n"
     ]
    },
    {
     "name": "stderr",
     "output_type": "stream",
     "text": [
      "\n",
      " 79%|█████████████████████████████████████████████████████████████▉                | 1191/1500 [00:21<00:05, 59.67it/s]\u001b[A"
     ]
    },
    {
     "name": "stdout",
     "output_type": "stream",
     "text": [
      "3108.0273722225056\n",
      "3106.426851781261\n",
      "3104.8372378602653\n",
      "3102.676011941637\n",
      "3101.0890316539762\n",
      "3099.5140981083086\n",
      "3101.136585229929\n",
      "3099.5533804571232\n",
      "3097.9787614972206\n",
      "3096.411915123572\n",
      "3095.4184916966574\n",
      "3093.8448115956535\n"
     ]
    },
    {
     "name": "stderr",
     "output_type": "stream",
     "text": [
      "\n",
      " 80%|██████████████████████████████████████████████████████████████▎               | 1198/1500 [00:21<00:05, 60.39it/s]\u001b[A\n",
      " 80%|██████████████████████████████████████████████████████████████▋               | 1205/1500 [00:21<00:04, 59.82it/s]\u001b[A"
     ]
    },
    {
     "name": "stdout",
     "output_type": "stream",
     "text": [
      "3092.8941077416343\n",
      "3091.325154105132\n",
      "3090.8304305970664\n",
      "3089.2484027440487\n",
      "3087.6751750772446\n",
      "3086.1119788174215\n",
      "3085.178845591067\n",
      "3083.638431774763\n",
      "3082.554841291663\n",
      "3081.0166683013813\n",
      "3079.4870156487054"
     ]
    },
    {
     "name": "stderr",
     "output_type": "stream",
     "text": [
      "\n",
      " 81%|███████████████████████████████████████████████████████████████               | 1212/1500 [00:21<00:04, 58.28it/s]\u001b[A\n",
      " 81%|███████████████████████████████████████████████████████████████▍              | 1219/1500 [00:21<00:04, 59.13it/s]\u001b[A"
     ]
    },
    {
     "name": "stdout",
     "output_type": "stream",
     "text": [
      "\n",
      "3077.970748190452\n",
      "3076.463102385087\n",
      "3074.9662533425553\n",
      "3083.6691108319465\n",
      "3082.1034370175234\n",
      "3080.5464005392505\n",
      "3081.172947332495\n",
      "3079.595552157169\n",
      "3078.027004380144\n",
      "3078.4066924710232\n",
      "3076.6721919291267\n",
      "3075.055447750938"
     ]
    },
    {
     "name": "stderr",
     "output_type": "stream",
     "text": [
      "\n",
      " 82%|███████████████████████████████████████████████████████████████▋              | 1225/1500 [00:22<00:04, 56.47it/s]\u001b[A"
     ]
    },
    {
     "name": "stdout",
     "output_type": "stream",
     "text": [
      "\n",
      "3096.7302663423643\n",
      "3094.963648289052\n",
      "3096.777420149389\n",
      "3094.981850764077\n",
      "3093.2018107801555\n",
      "3091.1610004906233\n",
      "3091.896207836982\n",
      "3090.1180729602743\n",
      "3088.3516862707975\n",
      "3093.6630033635947\n"
     ]
    },
    {
     "name": "stderr",
     "output_type": "stream",
     "text": [
      "\n",
      " 82%|████████████████████████████████████████████████████████████████              | 1231/1500 [00:22<00:04, 54.89it/s]\u001b[A\n",
      " 83%|████████████████████████████████████████████████████████████████▍             | 1238/1500 [00:22<00:04, 58.05it/s]\u001b[A"
     ]
    },
    {
     "name": "stdout",
     "output_type": "stream",
     "text": [
      "3107.0001245753465\n",
      "3105.242582859523\n",
      "3103.499847705412\n",
      "3102.3980953529103\n",
      "3100.655264066941\n",
      "3098.9268339286104\n",
      "3097.209002765724\n",
      "3096.221311261364\n",
      "3094.500191808717\n",
      "3092.7918711435755\n",
      "3092.724864465047\n",
      "3091.0209154094\n"
     ]
    },
    {
     "name": "stderr",
     "output_type": "stream",
     "text": [
      "\n",
      " 83%|████████████████████████████████████████████████████████████████▋             | 1244/1500 [00:22<00:04, 55.36it/s]\u001b[A\n",
      " 83%|█████████████████████████████████████████████████████████████████             | 1252/1500 [00:22<00:04, 60.72it/s]\u001b[A"
     ]
    },
    {
     "name": "stdout",
     "output_type": "stream",
     "text": [
      "3089.330261737169\n",
      "3087.653164502063\n",
      "3085.9844438680393\n",
      "3084.3252401813584\n",
      "3089.152156026297\n",
      "3087.4772710926086\n",
      "3085.8148257587536\n",
      "3085.380940103608\n",
      "3096.190829791974\n",
      "3094.966300372322\n",
      "3093.25287133615\n",
      "3091.552804029419\n",
      "3089.8638791006024"
     ]
    },
    {
     "name": "stderr",
     "output_type": "stream",
     "text": [
      "\n",
      " 84%|█████████████████████████████████████████████████████████████████▍            | 1259/1500 [00:22<00:04, 55.39it/s]\u001b[A"
     ]
    },
    {
     "name": "stdout",
     "output_type": "stream",
     "text": [
      "\n",
      "3088.187643736712\n",
      "3086.954436340817\n",
      "3085.277931463017\n",
      "3083.6135111601907\n",
      "3081.9589217060325\n",
      "3080.3172577730056\n",
      "3078.687264848179\n",
      "3077.068341645963\n",
      "3082.1310268529614\n",
      "3080.512860482462"
     ]
    },
    {
     "name": "stderr",
     "output_type": "stream",
     "text": [
      "\n",
      " 84%|█████████████████████████████████████████████████████████████████▊            | 1266/1500 [00:22<00:04, 56.46it/s]\u001b[A\n",
      " 85%|██████████████████████████████████████████████████████████████████▏           | 1274/1500 [00:22<00:03, 59.62it/s]\u001b[A"
     ]
    },
    {
     "name": "stdout",
     "output_type": "stream",
     "text": [
      "\n",
      "3079.623174502027\n",
      "3078.889210738476\n",
      "3075.1824963650524\n",
      "3073.526101087833\n",
      "3071.8821111999687\n",
      "3070.250922684251\n",
      "3068.6318699281787\n",
      "3067.0262699163536\n",
      "3065.430810522097\n",
      "3063.8465251251937\n",
      "3062.275995109749\n",
      "3074.2606131807975"
     ]
    },
    {
     "name": "stderr",
     "output_type": "stream",
     "text": [
      "\n",
      " 85%|██████████████████████████████████████████████████████████████████▌           | 1281/1500 [00:22<00:03, 56.75it/s]\u001b[A"
     ]
    },
    {
     "name": "stdout",
     "output_type": "stream",
     "text": [
      "\n",
      "3072.6498434417667\n",
      "3075.9817291448667\n",
      "3074.3917713161313\n",
      "3075.398168175403\n",
      "3074.6148803631436\n",
      "3073.7593939280755\n",
      "3072.1309948995968\n",
      "3070.9760394877244\n",
      "3067.769724426792"
     ]
    },
    {
     "name": "stderr",
     "output_type": "stream",
     "text": [
      "\n",
      " 86%|██████████████████████████████████████████████████████████████████▉           | 1287/1500 [00:23<00:03, 54.99it/s]\u001b[A\n",
      " 86%|███████████████████████████████████████████████████████████████████▏          | 1293/1500 [00:23<00:03, 54.95it/s]\u001b[A"
     ]
    },
    {
     "name": "stdout",
     "output_type": "stream",
     "text": [
      "\n",
      "3068.2459152162833\n",
      "3066.619262394568\n",
      "3065.003588767187\n",
      "3063.4009268051964\n",
      "3063.765353242702\n",
      "3062.1680889074355\n",
      "3060.582995720362\n",
      "3069.0646836888754\n",
      "3081.055172868958\n",
      "3079.4726074997466\n"
     ]
    },
    {
     "name": "stderr",
     "output_type": "stream",
     "text": [
      "\n",
      " 87%|███████████████████████████████████████████████████████████████████▌          | 1299/1500 [00:23<00:03, 51.53it/s]\u001b[A\n",
      " 87%|███████████████████████████████████████████████████████████████████▉          | 1307/1500 [00:23<00:03, 55.44it/s]\u001b[A"
     ]
    },
    {
     "name": "stdout",
     "output_type": "stream",
     "text": [
      "3077.902624185658\n",
      "3076.3426251051515\n",
      "3074.7916914122065\n",
      "3073.713119588936\n",
      "3072.1587752532273\n",
      "3070.3970766642165\n",
      "3068.8491184954255\n",
      "3070.4131125226986\n",
      "3068.872895440567\n",
      "3067.785252291981\n",
      "3061.469826067583\n"
     ]
    },
    {
     "name": "stderr",
     "output_type": "stream",
     "text": [
      "\n",
      " 88%|████████████████████████████████████████████████████████████████████▎         | 1313/1500 [00:23<00:03, 55.58it/s]\u001b[A"
     ]
    },
    {
     "name": "stdout",
     "output_type": "stream",
     "text": [
      "3059.9336242272493\n",
      "3062.6078450542755\n",
      "3061.0877435724674\n",
      "3059.5771521132156\n",
      "3061.493410796157\n",
      "3061.9370495245134\n",
      "3060.389263855181\n",
      "3059.5012595337375\n",
      "3057.9620408464566\n",
      "3056.434390340539\n",
      "3054.9175740191513\n"
     ]
    },
    {
     "name": "stderr",
     "output_type": "stream",
     "text": [
      "\n",
      " 88%|████████████████████████████████████████████████████████████████████▌         | 1319/1500 [00:23<00:03, 56.27it/s]\u001b[A\n",
      " 88%|████████████████████████████████████████████████████████████████████▉         | 1326/1500 [00:23<00:02, 59.72it/s]\u001b[A"
     ]
    },
    {
     "name": "stdout",
     "output_type": "stream",
     "text": [
      "3053.4135854096858\n",
      "3051.922921052608\n",
      "3050.088265273398\n",
      "3048.6140320708714\n",
      "3054.6107893042495\n",
      "3052.851957533068\n",
      "3055.0771054687693\n",
      "3053.5882556827555\n",
      "3052.10950067719\n",
      "3050.6421641774677\n",
      "3049.185668047709\n",
      "3047.7387195584347\n",
      "3046.301239193874\n"
     ]
    },
    {
     "name": "stderr",
     "output_type": "stream",
     "text": [
      "\n",
      " 89%|█████████████████████████████████████████████████████████████████████▎        | 1333/1500 [00:23<00:02, 59.30it/s]\u001b[A\n",
      " 89%|█████████████████████████████████████████████████████████████████████▋        | 1340/1500 [00:24<00:02, 60.71it/s]\u001b[A"
     ]
    },
    {
     "name": "stdout",
     "output_type": "stream",
     "text": [
      "3044.872130128719\n",
      "3043.450945008775\n",
      "3042.0403594254185\n",
      "3041.650771987279\n",
      "3040.231440069443\n",
      "3038.8230641578584\n",
      "3037.4229857195924\n",
      "3036.0313223803364\n",
      "3035.9825195302806\n",
      "3034.563600839007\n",
      "3033.1526666167724\n",
      "3031.752222595298\n",
      "3042.3101149817144\n"
     ]
    },
    {
     "name": "stderr",
     "output_type": "stream",
     "text": [
      "\n",
      " 90%|██████████████████████████████████████████████████████████████████████        | 1347/1500 [00:24<00:02, 61.63it/s]\u001b[A\n",
      " 90%|██████████████████████████████████████████████████████████████████████▍       | 1354/1500 [00:24<00:02, 59.10it/s]\u001b[A"
     ]
    },
    {
     "name": "stdout",
     "output_type": "stream",
     "text": [
      "3040.851891535538\n",
      "3040.09947393298\n",
      "3038.6496247699893\n",
      "3037.208469450689\n",
      "3035.7765918344003\n",
      "3035.049660095886\n",
      "3033.6021869194146\n",
      "3032.8281329204765\n",
      "3031.3941860834184\n",
      "3029.9695426520075\n",
      "3028.5534569765364"
     ]
    },
    {
     "name": "stderr",
     "output_type": "stream",
     "text": [
      "\n",
      " 91%|██████████████████████████████████████████████████████████████████████▋       | 1360/1500 [00:24<00:02, 58.21it/s]\u001b[A\n"
     ]
    },
    {
     "name": "stdout",
     "output_type": "stream",
     "text": [
      "\n",
      "3027.145491919903\n",
      "3030.0696548133665\n",
      "3028.649578744133\n",
      "3033.989786855978\n",
      "3032.5585280468745\n",
      "3031.1362420100686\n",
      "3029.7228600651733\n",
      "3028.318201800012\n",
      "3025.8477723050437\n",
      "3024.457436758071\n"
     ]
    },
    {
     "name": "stderr",
     "output_type": "stream",
     "text": [
      " 91%|███████████████████████████████████████████████████████████████████████       | 1366/1500 [00:24<00:02, 57.76it/s]\u001b[A\n",
      " 91%|███████████████████████████████████████████████████████████████████████▎      | 1372/1500 [00:24<00:02, 57.70it/s]\u001b[A"
     ]
    },
    {
     "name": "stdout",
     "output_type": "stream",
     "text": [
      "3023.0740441663424\n",
      "3021.700308470526\n",
      "3020.334685066761\n",
      "3018.977630055907\n",
      "3017.6292069356537\n",
      "3016.2877387933454\n",
      "3014.95382886215\n",
      "3013.6280345933897\n",
      "3012.3100391224743\n",
      "3015.279387647862\n",
      "3011.0347399102293\n",
      "3009.715156428492\n"
     ]
    },
    {
     "name": "stderr",
     "output_type": "stream",
     "text": [
      "\n",
      " 92%|███████████████████████████████████████████████████████████████████████▋      | 1379/1500 [00:24<00:02, 59.57it/s]\u001b[A\n",
      " 92%|████████████████████████████████████████████████████████████████████████      | 1385/1500 [00:24<00:02, 53.00it/s]\u001b[A"
     ]
    },
    {
     "name": "stdout",
     "output_type": "stream",
     "text": [
      "3008.4911772309515\n",
      "3007.1720727723537\n",
      "3005.861185579519\n",
      "3008.8012989417794\n",
      "3007.480702531225\n",
      "3006.169248724659\n",
      "3004.866223887918\n",
      "3003.5701935599977"
     ]
    },
    {
     "name": "stderr",
     "output_type": "stream",
     "text": [
      "\n",
      " 93%|████████████████████████████████████████████████████████████████████████▎     | 1391/1500 [00:24<00:02, 46.12it/s]\u001b[A"
     ]
    },
    {
     "name": "stdout",
     "output_type": "stream",
     "text": [
      "\n",
      "3002.2825871462996\n",
      "3005.0000751475786\n",
      "3014.2126309135956\n",
      "3012.8583738542297\n",
      "3011.5122453872377\n",
      "3010.082866275523\n",
      "3008.731019366179\n",
      "3007.434216050305"
     ]
    },
    {
     "name": "stderr",
     "output_type": "stream",
     "text": [
      "\n",
      " 93%|████████████████████████████████████████████████████████████████████████▌     | 1396/1500 [00:25<00:02, 47.18it/s]\u001b[A\n",
      " 93%|████████████████████████████████████████████████████████████████████████▉     | 1402/1500 [00:25<00:02, 48.82it/s]\u001b[A"
     ]
    },
    {
     "name": "stdout",
     "output_type": "stream",
     "text": [
      "\n",
      "3006.095227200251\n",
      "3004.7621244392235\n",
      "3003.4357330787425\n",
      "3002.118636781396\n",
      "3002.3417430691684\n",
      "3001.020032145464\n",
      "2999.706805726277\n",
      "2998.4009232090607\n",
      "2997.102266775867\n",
      "2995.8791978312756"
     ]
    },
    {
     "name": "stderr",
     "output_type": "stream",
     "text": [
      "\n",
      " 94%|█████████████████████████████████████████████████████████████████████████▏    | 1408/1500 [00:25<00:01, 50.24it/s]\u001b[A"
     ]
    },
    {
     "name": "stdout",
     "output_type": "stream",
     "text": [
      "\n",
      "2994.5890700375203\n",
      "2993.306873997261\n",
      "2992.0327362679272\n",
      "2990.7651767772722\n",
      "2998.719022342714\n",
      "2997.7260453317544\n",
      "2996.450805220401\n",
      "2995.1848152774887\n",
      "2994.7343748000476\n",
      "2993.472907215647\n",
      "2992.2201236877763\n"
     ]
    },
    {
     "name": "stderr",
     "output_type": "stream",
     "text": [
      "\n",
      " 94%|█████████████████████████████████████████████████████████████████████████▌    | 1415/1500 [00:25<00:01, 52.27it/s]\u001b[A\n",
      " 95%|█████████████████████████████████████████████████████████████████████████▉    | 1421/1500 [00:25<00:01, 53.24it/s]\u001b[A"
     ]
    },
    {
     "name": "stdout",
     "output_type": "stream",
     "text": [
      "2994.552939519849\n",
      "2993.2951576395094\n",
      "2992.0454099255985\n",
      "2991.1807790244184\n",
      "2989.9298563898246\n",
      "2988.687390974403\n",
      "2987.4532096568373\n",
      "2986.2258962372766\n",
      "2985.006086593686\n",
      "2987.910886281924\n"
     ]
    },
    {
     "name": "stderr",
     "output_type": "stream",
     "text": [
      "\n",
      " 95%|██████████████████████████████████████████████████████████████████████████▏   | 1427/1500 [00:25<00:01, 53.85it/s]\u001b[A\n",
      " 96%|██████████████████████████████████████████████████████████████████████████▌   | 1434/1500 [00:25<00:01, 56.46it/s]\u001b[A"
     ]
    },
    {
     "name": "stdout",
     "output_type": "stream",
     "text": [
      "2986.688510886222\n",
      "2992.6237912184247\n",
      "2991.3957051058214\n",
      "2990.175064208711\n",
      "2988.9600502274366\n",
      "2987.752148687611\n",
      "2986.550262674863\n",
      "2985.3533887420117\n",
      "2984.163991994181\n",
      "2982.981369267331\n",
      "2981.805120813232\n",
      "2980.636558592057"
     ]
    },
    {
     "name": "stderr",
     "output_type": "stream",
     "text": [
      "\n",
      " 96%|██████████████████████████████████████████████████████████████████████████▉   | 1440/1500 [00:25<00:01, 55.20it/s]\u001b[A\n",
      " 96%|███████████████████████████████████████████████████████████████████████████▏  | 1446/1500 [00:25<00:00, 56.02it/s]\u001b[A"
     ]
    },
    {
     "name": "stdout",
     "output_type": "stream",
     "text": [
      "\n",
      "2979.473439079261\n",
      "2978.316801845839\n",
      "2987.347206937293\n",
      "2986.157651256223\n",
      "2984.975066930043\n",
      "2983.7988322755145\n",
      "2982.629507375706\n",
      "2984.375016909062\n",
      "2983.1926013995085\n",
      "2982.017196608508\n",
      "2980.849028454483"
     ]
    },
    {
     "name": "stderr",
     "output_type": "stream",
     "text": [
      "\n",
      " 97%|███████████████████████████████████████████████████████████████████████████▌  | 1452/1500 [00:26<00:00, 56.15it/s]\u001b[A\n",
      " 97%|███████████████████████████████████████████████████████████████████████████▊  | 1459/1500 [00:26<00:00, 58.52it/s]"
     ]
    },
    {
     "name": "stdout",
     "output_type": "stream",
     "text": [
      "\n",
      "2979.6870986781114\n",
      "2978.531222852501\n",
      "2978.154030682115\n",
      "2976.9878226759133\n",
      "2975.829543082523\n",
      "2974.675683731959\n",
      "2973.5285912748786\n",
      "2972.38826295658\n",
      "2972.706599773046\n",
      "2971.574378392018\n",
      "2970.449250487888\n"
     ]
    },
    {
     "name": "stderr",
     "output_type": "stream",
     "text": [
      "\u001b[A\n",
      " 98%|████████████████████████████████████████████████████████████████████████████▏ | 1466/1500 [00:26<00:00, 60.24it/s]\u001b[A"
     ]
    },
    {
     "name": "stdout",
     "output_type": "stream",
     "text": [
      "2969.318524405761\n",
      "2968.19163342509\n",
      "2967.0712367676\n",
      "2965.9572413629976\n",
      "2964.850570297279\n",
      "2963.74839281647\n",
      "2962.6515662008937\n",
      "2961.560587513042\n",
      "2962.359996782642\n",
      "2961.247965810689\n",
      "2960.14194756381\n",
      "2959.042481428285"
     ]
    },
    {
     "name": "stderr",
     "output_type": "stream",
     "text": [
      "\n",
      " 98%|████████████████████████████████████████████████████████████████████████████▌ | 1473/1500 [00:26<00:00, 57.37it/s]\u001b[A\n",
      " 99%|████████████████████████████████████████████████████████████████████████████▉ | 1480/1500 [00:26<00:00, 59.80it/s]\u001b[A"
     ]
    },
    {
     "name": "stdout",
     "output_type": "stream",
     "text": [
      "\n",
      "2959.6057020031526\n",
      "2958.489085251492\n",
      "2957.7568423254365\n",
      "2956.6471587034325\n",
      "2957.9650067726006\n",
      "2956.8459495891466\n",
      "2956.797766400286\n",
      "2955.6717537394065\n",
      "2954.8236033812727\n",
      "2953.6873300897837\n",
      "2952.590395371415\n",
      "2951.450931618983"
     ]
    },
    {
     "name": "stderr",
     "output_type": "stream",
     "text": [
      "\n",
      " 99%|█████████████████████████████████████████████████████████████████████████████▎| 1487/1500 [00:26<00:00, 57.56it/s]\u001b[A"
     ]
    },
    {
     "name": "stdout",
     "output_type": "stream",
     "text": [
      "\n",
      "2950.319451590312\n",
      "2949.19503181434\n",
      "2948.075650930762\n",
      "2951.108422443135\n",
      "2949.954795014934\n",
      "2960.3938022791003\n",
      "2959.243272774929\n",
      "2961.1974013871945\n",
      "2965.542054246107\n",
      "2962.407894976489\n"
     ]
    },
    {
     "name": "stderr",
     "output_type": "stream",
     "text": [
      "\n",
      "100%|█████████████████████████████████████████████████████████████████████████████▋| 1493/1500 [00:26<00:00, 56.61it/s]\u001b[A\n",
      "100%|██████████████████████████████████████████████████████████████████████████████| 1500/1500 [00:26<00:00, 55.76it/s]\u001b[A"
     ]
    },
    {
     "name": "stdout",
     "output_type": "stream",
     "text": [
      "2961.2289622547773\n",
      "2960.056387842964\n",
      "2961.951932348787\n",
      "2960.7803505792017\n",
      "2959.614238023431\n",
      "2958.453806818403\n",
      "2957.822821044131\n"
     ]
    },
    {
     "name": "stderr",
     "output_type": "stream",
     "text": [
      "\n"
     ]
    }
   ],
   "source": [
    "Error,U_result,V_result  = subgradient3(image_array,U_0,V_0,0.001)"
   ]
  },
  {
   "cell_type": "code",
   "execution_count": 465,
   "metadata": {
    "scrolled": true
   },
   "outputs": [
    {
     "data": {
      "text/plain": [
       "[<matplotlib.lines.Line2D at 0x215e2aa6808>]"
      ]
     },
     "execution_count": 465,
     "metadata": {},
     "output_type": "execute_result"
    },
    {
     "data": {
      "image/png": "[encoded data removed]",
      "text/plain": [
       "<Figure size 432x288 with 1 Axes>"
      ]
     },
     "metadata": {
      "needs_background": "light"
     },
     "output_type": "display_data"
    }
   ],
   "source": [
    "plt.plot(Error)"
   ]
  },
  {
   "cell_type": "code",
   "execution_count": 466,
   "metadata": {},
   "outputs": [],
   "source": [
    "L = U_result.dot(V_result).astype(np.uint8)"
   ]
  },
  {
   "cell_type": "code",
   "execution_count": 467,
   "metadata": {},
   "outputs": [],
   "source": [
    "S = image_array[:,20].reshape(192,168)-L"
   ]
  },
  {
   "cell_type": "code",
   "execution_count": 468,
   "metadata": {},
   "outputs": [],
   "source": [
    "# 把array 变回图片\n",
    "new_im = Image.fromarray(L)"
   ]
  },
  {
   "cell_type": "code",
   "execution_count": 469,
   "metadata": {},
   "outputs": [
    {
     "data": {
      "image/png": "[encoded data removed]",
      "text/plain": [
       "<PIL.Image.Image image mode=L size=168x192 at 0x215E2AD9948>"
      ]
     },
     "execution_count": 469,
     "metadata": {},
     "output_type": "execute_result"
    }
   ],
   "source": [
    "new_im"
   ]
  },
  {
   "cell_type": "code",
   "execution_count": null,
   "metadata": {},
   "outputs": [],
   "source": []
  }
 ],
 "metadata": {
  "kernelspec": {
   "display_name": "Python 3",
   "language": "python",
   "name": "python3"
  },
  "language_info": {
   "codemirror_mode": {
    "name": "ipython",
    "version": 3
   },
   "file_extension": ".py",
   "mimetype": "text/x-python",
   "name": "python",
   "nbconvert_exporter": "python",
   "pygments_lexer": "ipython3",
   "version": "3.8.5"
  }
 },
 "nbformat": 4,
 "nbformat_minor": 4
}
