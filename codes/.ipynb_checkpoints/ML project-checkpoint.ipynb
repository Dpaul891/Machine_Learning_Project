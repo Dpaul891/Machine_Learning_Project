{
 "cells": [
  {
   "cell_type": "code",
   "execution_count": 1,
   "metadata": {},
   "outputs": [],
   "source": [
    "from PIL import Image\n",
    "import numpy as np\n",
    "import random\n",
    "import matplotlib.pyplot as plt"
   ]
  },
  {
   "cell_type": "code",
   "execution_count": null,
   "metadata": {},
   "outputs": [],
   "source": [
    "image = Image.open(\"yaleB02_P00A+000E+00.pgm\")"
   ]
  },
  {
   "cell_type": "code",
   "execution_count": null,
   "metadata": {},
   "outputs": [],
   "source": [
    "image_array = np.array(image)"
   ]
  },
  {
   "cell_type": "code",
   "execution_count": null,
   "metadata": {},
   "outputs": [],
   "source": [
    "# 把array 变回图片\n",
    "new_im = Image.fromarray(image_array)"
   ]
  },
  {
   "cell_type": "code",
   "execution_count": 2,
   "metadata": {},
   "outputs": [],
   "source": [
    "U_0 = np.random.normal(0, 10, (50, 5))\n",
    "V_0 = np.random.normal(0, 10, (50, 5))"
   ]
  },
  {
   "cell_type": "code",
   "execution_count": 3,
   "metadata": {},
   "outputs": [],
   "source": [
    "U_star = np.random.normal(0, 10, (50, 5))\n",
    "V_star = np.random.normal(0, 10, (50, 5))\n",
    "L_star = U_star.dot(V_star.T)"
   ]
  },
  {
   "cell_type": "code",
   "execution_count": 7,
   "metadata": {},
   "outputs": [],
   "source": [
    "s = create_S(0.3,50,50)"
   ]
  },
  {
   "cell_type": "code",
   "execution_count": 8,
   "metadata": {},
   "outputs": [],
   "source": [
    "X = U_star.dot(V_star.T)+s"
   ]
  },
  {
   "cell_type": "code",
   "execution_count": 5,
   "metadata": {},
   "outputs": [],
   "source": [
    "def create_S(p,d,n):\n",
    "    s = np.zeros(d*n)\n",
    "\n",
    "    change_list = random.sample(range(int(d*n)),int(p*d*n))\n",
    "    for i in change_list:\n",
    "        s[i] = np.random.normal(0, 10)\n",
    "    \n",
    "    s = s.reshape(50,50)\n",
    "    return s"
   ]
  },
  {
   "cell_type": "code",
   "execution_count": 11,
   "metadata": {},
   "outputs": [],
   "source": [
    "def subgradient(X,U_0,V_0,alpha, L_star):\n",
    "    #initialization the algorithm\n",
    "    U = U_0\n",
    "    V = V_0.T\n",
    "    #main loop\n",
    "    Error = []\n",
    "    for n in range(1000):\n",
    "    #calculate error\n",
    "        Error.append(np.linalg.norm(U.dot(V)-L_star, 2)) \n",
    "        \n",
    "        for i in range(len(X)):\n",
    "            for j in range(len(X[i])):\n",
    "                if X[i][j] > 0:\n",
    "                    grad = np.sign(X[i][j] - np.dot(U[i,:],V[:,j]))\n",
    "                    for k in range(5):\n",
    "                        U[i][k] = U[i][k] + alpha * grad\n",
    "                        V[k][j] = V[k][j] + alpha * grad\n",
    "\n",
    "\n",
    "    U_result = U\n",
    "    V_result = V\n",
    "    return Error, U_result,V_result"
   ]
  },
  {
   "cell_type": "code",
   "execution_count": 12,
   "metadata": {},
   "outputs": [],
   "source": [
    "Error, U_result,V_result  = subgradient(X,U_0,V_0,0.01, L_star)"
   ]
  },
  {
   "cell_type": "code",
   "execution_count": null,
   "metadata": {},
   "outputs": [],
   "source": []
  }
 ],
 "metadata": {
  "kernelspec": {
   "display_name": "Python 3",
   "language": "python",
   "name": "python3"
  },
  "language_info": {
   "codemirror_mode": {
    "name": "ipython",
    "version": 3
   },
   "file_extension": ".py",
   "mimetype": "text/x-python",
   "name": "python",
   "nbconvert_exporter": "python",
   "pygments_lexer": "ipython3",
   "version": "3.8.5"
  }
 },
 "nbformat": 4,
 "nbformat_minor": 4
}
